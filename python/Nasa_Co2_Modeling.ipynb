{
  "nbformat": 4,
  "nbformat_minor": 0,
  "metadata": {
    "colab": {
      "provenance": [],
      "gpuType": "T4"
    },
    "kernelspec": {
      "name": "python3",
      "display_name": "Python 3"
    },
    "language_info": {
      "name": "python"
    },
    "accelerator": "GPU"
  },
  "cells": [
    {
      "cell_type": "code",
      "source": [
        "!pip install rasterio"
      ],
      "metadata": {
        "colab": {
          "base_uri": "https://localhost:8080/"
        },
        "id": "720jZ6nPyiE9",
        "outputId": "62b46217-3285-4533-92b7-437dacf04c4d"
      },
      "execution_count": null,
      "outputs": [
        {
          "output_type": "stream",
          "name": "stdout",
          "text": [
            "Collecting rasterio\n",
            "  Downloading rasterio-1.4.1-cp310-cp310-manylinux_2_17_x86_64.manylinux2014_x86_64.whl.metadata (9.1 kB)\n",
            "Collecting affine (from rasterio)\n",
            "  Downloading affine-2.4.0-py3-none-any.whl.metadata (4.0 kB)\n",
            "Requirement already satisfied: attrs in /usr/local/lib/python3.10/dist-packages (from rasterio) (24.2.0)\n",
            "Requirement already satisfied: certifi in /usr/local/lib/python3.10/dist-packages (from rasterio) (2024.8.30)\n",
            "Requirement already satisfied: click>=4.0 in /usr/local/lib/python3.10/dist-packages (from rasterio) (8.1.7)\n",
            "Collecting cligj>=0.5 (from rasterio)\n",
            "  Downloading cligj-0.7.2-py3-none-any.whl.metadata (5.0 kB)\n",
            "Requirement already satisfied: numpy>=1.24 in /usr/local/lib/python3.10/dist-packages (from rasterio) (1.26.4)\n",
            "Collecting click-plugins (from rasterio)\n",
            "  Downloading click_plugins-1.1.1-py2.py3-none-any.whl.metadata (6.4 kB)\n",
            "Requirement already satisfied: pyparsing in /usr/local/lib/python3.10/dist-packages (from rasterio) (3.1.4)\n",
            "Downloading rasterio-1.4.1-cp310-cp310-manylinux_2_17_x86_64.manylinux2014_x86_64.whl (22.2 MB)\n",
            "\u001b[2K   \u001b[90m━━━━━━━━━━━━━━━━━━━━━━━━━━━━━━━━━━━━━━━━\u001b[0m \u001b[32m22.2/22.2 MB\u001b[0m \u001b[31m20.8 MB/s\u001b[0m eta \u001b[36m0:00:00\u001b[0m\n",
            "\u001b[?25hDownloading cligj-0.7.2-py3-none-any.whl (7.1 kB)\n",
            "Downloading affine-2.4.0-py3-none-any.whl (15 kB)\n",
            "Downloading click_plugins-1.1.1-py2.py3-none-any.whl (7.5 kB)\n",
            "Installing collected packages: cligj, click-plugins, affine, rasterio\n",
            "Successfully installed affine-2.4.0 click-plugins-1.1.1 cligj-0.7.2 rasterio-1.4.1\n"
          ]
        }
      ]
    },
    {
      "cell_type": "code",
      "execution_count": null,
      "metadata": {
        "id": "FMs99x3yweJO"
      },
      "outputs": [],
      "source": [
        "import requests\n",
        "import os\n",
        "import rasterio\n",
        "import geopandas as gpd\n",
        "from shapely.geometry import mapping\n",
        "import matplotlib.pyplot as plt\n",
        "from rasterio.plot import show\n",
        "from rasterio.warp import calculate_default_transform, reproject, Resampling\n",
        "import numpy as np\n",
        "import pandas as pd\n",
        "from sklearn.preprocessing import MinMaxScaler\n",
        "import tensorflow as tf\n",
        "from tensorflow.keras.models import Sequential\n",
        "from tensorflow.keras.layers import LSTM, Dense"
      ]
    },
    {
      "cell_type": "code",
      "source": [
        "# Crop CO₂ Budget Grid URLs\n",
        "crop_co2_budget_urls = [\n",
        "    'https://dljsq618eotzp.cloudfront.net/oco2-mip-co2budget-yeargrid-v1/pilot_topdown_Crop_CO2_Budget_grid_v1_2015.tif',\n",
        "    'https://dljsq618eotzp.cloudfront.net/oco2-mip-co2budget-yeargrid-v1/pilot_topdown_Crop_CO2_Budget_grid_v1_2016.tif',\n",
        "    'https://dljsq618eotzp.cloudfront.net/oco2-mip-co2budget-yeargrid-v1/pilot_topdown_Crop_CO2_Budget_grid_v1_2017.tif',\n",
        "    'https://dljsq618eotzp.cloudfront.net/oco2-mip-co2budget-yeargrid-v1/pilot_topdown_Crop_CO2_Budget_grid_v1_2018.tif',\n",
        "    'https://dljsq618eotzp.cloudfront.net/oco2-mip-co2budget-yeargrid-v1/pilot_topdown_Crop_CO2_Budget_grid_v1_2019.tif',\n",
        "    'https://dljsq618eotzp.cloudfront.net/oco2-mip-co2budget-yeargrid-v1/pilot_topdown_Crop_CO2_Budget_grid_v1_2020.tif'\n",
        "]\n",
        "\n",
        "# Fossil Fuel CO₂ Budget Grid URLs\n",
        "ff_co2_budget_urls = [\n",
        "    'https://dljsq618eotzp.cloudfront.net/oco2-mip-co2budget-yeargrid-v1/pilot_topdown_FF_CO2_Budget_grid_v1_2015.tif',\n",
        "    'https://dljsq618eotzp.cloudfront.net/oco2-mip-co2budget-yeargrid-v1/pilot_topdown_FF_CO2_Budget_grid_v1_2016.tif',\n",
        "    'https://dljsq618eotzp.cloudfront.net/oco2-mip-co2budget-yeargrid-v1/pilot_topdown_FF_CO2_Budget_grid_v1_2017.tif',\n",
        "    'https://dljsq618eotzp.cloudfront.net/oco2-mip-co2budget-yeargrid-v1/pilot_topdown_FF_CO2_Budget_grid_v1_2018.tif',\n",
        "    'https://dljsq618eotzp.cloudfront.net/oco2-mip-co2budget-yeargrid-v1/pilot_topdown_FF_CO2_Budget_grid_v1_2019.tif',\n",
        "    'https://dljsq618eotzp.cloudfront.net/oco2-mip-co2budget-yeargrid-v1/pilot_topdown_FF_CO2_Budget_grid_v1_2020.tif'\n",
        "]\n",
        "\n",
        "# Land Carbon Loss CO₂ Budget Grid URLs\n",
        "land_carbon_loss_urls = [\n",
        "    'https://dljsq618eotzp.cloudfront.net/oco2-mip-co2budget-yeargrid-v1/pilot_topdown_IS_dC_loss_CO2_Budget_grid_v1_2015.tif',\n",
        "    'https://dljsq618eotzp.cloudfront.net/oco2-mip-co2budget-yeargrid-v1/pilot_topdown_IS_dC_loss_CO2_Budget_grid_v1_2016.tif',\n",
        "    'https://dljsq618eotzp.cloudfront.net/oco2-mip-co2budget-yeargrid-v1/pilot_topdown_IS_dC_loss_CO2_Budget_grid_v1_2017.tif',\n",
        "    'https://dljsq618eotzp.cloudfront.net/oco2-mip-co2budget-yeargrid-v1/pilot_topdown_IS_dC_loss_CO2_Budget_grid_v1_2018.tif',\n",
        "    'https://dljsq618eotzp.cloudfront.net/oco2-mip-co2budget-yeargrid-v1/pilot_topdown_IS_dC_loss_CO2_Budget_grid_v1_2019.tif',\n",
        "    'https://dljsq618eotzp.cloudfront.net/oco2-mip-co2budget-yeargrid-v1/pilot_topdown_IS_dC_loss_CO2_Budget_grid_v1_2020.tif'\n",
        "]"
      ],
      "metadata": {
        "id": "Y2u0YDGWwiat"
      },
      "execution_count": null,
      "outputs": []
    },
    {
      "cell_type": "code",
      "source": [
        "# Base directory to store the downloaded files\n",
        "base_dir = 'CO2_Budget_TIF_Files'\n",
        "os.makedirs(base_dir, exist_ok=True)\n",
        "\n",
        "# Create subdirectories for each type of data\n",
        "crop_dir = os.path.join(base_dir, 'Crop_CO2_Budget')\n",
        "ff_dir = os.path.join(base_dir, 'FF_CO2_Budget')\n",
        "land_carbon_loss_dir = os.path.join(base_dir, 'Land_Carbon_Loss_CO2_Budget')\n",
        "\n",
        "os.makedirs(crop_dir, exist_ok=True)\n",
        "os.makedirs(ff_dir, exist_ok=True)\n",
        "os.makedirs(land_carbon_loss_dir, exist_ok=True)\n",
        "\n",
        "# Function to download files\n",
        "def download_file(url, save_path):\n",
        "    response = requests.get(url, stream=True)\n",
        "    with open(save_path, 'wb') as file:\n",
        "        for chunk in response.iter_content(chunk_size=1024):\n",
        "            if chunk:\n",
        "                file.write(chunk)\n",
        "    print(f\"Downloaded {save_path}\")\n"
      ],
      "metadata": {
        "id": "J07CGZnyx5qb"
      },
      "execution_count": null,
      "outputs": []
    },
    {
      "cell_type": "code",
      "source": [
        "# Download each file for the respective subdirectory\n",
        "for url in crop_co2_budget_urls:\n",
        "    file_name = os.path.basename(url)\n",
        "    save_path = os.path.join(crop_dir, file_name)\n",
        "    download_file(url, save_path)\n",
        "\n",
        "for url in ff_co2_budget_urls:\n",
        "    file_name = os.path.basename(url)\n",
        "    save_path = os.path.join(ff_dir, file_name)\n",
        "    download_file(url, save_path)\n",
        "\n",
        "for url in land_carbon_loss_urls:\n",
        "    file_name = os.path.basename(url)\n",
        "    save_path = os.path.join(land_carbon_loss_dir, file_name)\n",
        "    download_file(url, save_path)"
      ],
      "metadata": {
        "colab": {
          "base_uri": "https://localhost:8080/"
        },
        "id": "Cbm9dFxTyDAR",
        "outputId": "1cd2b5e1-5598-4896-de84-dac5c76150b2"
      },
      "execution_count": null,
      "outputs": [
        {
          "output_type": "stream",
          "name": "stdout",
          "text": [
            "Downloaded CO2_Budget_TIF_Files/Crop_CO2_Budget/pilot_topdown_Crop_CO2_Budget_grid_v1_2015.tif\n",
            "Downloaded CO2_Budget_TIF_Files/Crop_CO2_Budget/pilot_topdown_Crop_CO2_Budget_grid_v1_2016.tif\n",
            "Downloaded CO2_Budget_TIF_Files/Crop_CO2_Budget/pilot_topdown_Crop_CO2_Budget_grid_v1_2017.tif\n",
            "Downloaded CO2_Budget_TIF_Files/Crop_CO2_Budget/pilot_topdown_Crop_CO2_Budget_grid_v1_2018.tif\n",
            "Downloaded CO2_Budget_TIF_Files/Crop_CO2_Budget/pilot_topdown_Crop_CO2_Budget_grid_v1_2019.tif\n",
            "Downloaded CO2_Budget_TIF_Files/Crop_CO2_Budget/pilot_topdown_Crop_CO2_Budget_grid_v1_2020.tif\n",
            "Downloaded CO2_Budget_TIF_Files/FF_CO2_Budget/pilot_topdown_FF_CO2_Budget_grid_v1_2015.tif\n",
            "Downloaded CO2_Budget_TIF_Files/FF_CO2_Budget/pilot_topdown_FF_CO2_Budget_grid_v1_2016.tif\n",
            "Downloaded CO2_Budget_TIF_Files/FF_CO2_Budget/pilot_topdown_FF_CO2_Budget_grid_v1_2017.tif\n",
            "Downloaded CO2_Budget_TIF_Files/FF_CO2_Budget/pilot_topdown_FF_CO2_Budget_grid_v1_2018.tif\n",
            "Downloaded CO2_Budget_TIF_Files/FF_CO2_Budget/pilot_topdown_FF_CO2_Budget_grid_v1_2019.tif\n",
            "Downloaded CO2_Budget_TIF_Files/FF_CO2_Budget/pilot_topdown_FF_CO2_Budget_grid_v1_2020.tif\n",
            "Downloaded CO2_Budget_TIF_Files/Land_Carbon_Loss_CO2_Budget/pilot_topdown_IS_dC_loss_CO2_Budget_grid_v1_2015.tif\n",
            "Downloaded CO2_Budget_TIF_Files/Land_Carbon_Loss_CO2_Budget/pilot_topdown_IS_dC_loss_CO2_Budget_grid_v1_2016.tif\n",
            "Downloaded CO2_Budget_TIF_Files/Land_Carbon_Loss_CO2_Budget/pilot_topdown_IS_dC_loss_CO2_Budget_grid_v1_2017.tif\n",
            "Downloaded CO2_Budget_TIF_Files/Land_Carbon_Loss_CO2_Budget/pilot_topdown_IS_dC_loss_CO2_Budget_grid_v1_2018.tif\n",
            "Downloaded CO2_Budget_TIF_Files/Land_Carbon_Loss_CO2_Budget/pilot_topdown_IS_dC_loss_CO2_Budget_grid_v1_2019.tif\n",
            "Downloaded CO2_Budget_TIF_Files/Land_Carbon_Loss_CO2_Budget/pilot_topdown_IS_dC_loss_CO2_Budget_grid_v1_2020.tif\n"
          ]
        }
      ]
    },
    {
      "cell_type": "markdown",
      "source": [
        "# **2. Pre-Processing**"
      ],
      "metadata": {
        "id": "koyTtoQdz9HD"
      }
    },
    {
      "cell_type": "code",
      "source": [
        "# Function to preprocess GeoTIFF files and extract data\n",
        "def preprocess_geotiff(file_path):\n",
        "    with rasterio.open(file_path) as dataset:\n",
        "        data = dataset.read(1)  # Read CO₂ values for each pixel (1st band)\n",
        "        bounds = dataset.bounds  # Geographical bounds of the image\n",
        "\n",
        "        # Generate the longitude and latitude coordinates for each pixel\n",
        "        rows, cols = data.shape\n",
        "        lon_min, lat_min = bounds.left, bounds.bottom\n",
        "        lon_max, lat_max = bounds.right, bounds.top\n",
        "        lon_coords = np.linspace(lon_min, lon_max, cols)\n",
        "        lat_coords = np.linspace(lat_min, lat_max, rows)\n",
        "\n",
        "        # Reshape to 1D for DataFrame\n",
        "        lon_coords = np.repeat(lon_coords, rows)\n",
        "        lat_coords = np.tile(lat_coords, cols)\n",
        "        co2_values = data.flatten()\n",
        "\n",
        "        # Extract the year from the file name\n",
        "        year = int(file_path.split('_')[-1].split('.')[0])\n",
        "\n",
        "        # Return a DataFrame with CO₂ values and coordinates\n",
        "        return pd.DataFrame({\n",
        "            'Longitude': lon_coords,\n",
        "            'Latitude': lat_coords,\n",
        "            'CO2': co2_values,\n",
        "            'Year': year\n",
        "        })\n",
        "\n",
        "# Directories for the categories\n",
        "crop_dir = 'CO2_Budget_TIF_Files/Crop_CO2_Budget'\n",
        "ff_dir = 'CO2_Budget_TIF_Files/FF_CO2_Budget'\n",
        "land_carbon_loss_dir = 'CO2_Budget_TIF_Files/Land_Carbon_Loss_CO2_Budget'\n",
        "\n",
        "# Initialize an empty DataFrame to store merged data\n",
        "merged_data = pd.DataFrame()"
      ],
      "metadata": {
        "id": "HyEDxkiH9J36"
      },
      "execution_count": null,
      "outputs": []
    },
    {
      "cell_type": "code",
      "source": [
        "# Process Crop CO₂ Budget Grid\n",
        "for file_name in sorted(os.listdir(crop_dir)):\n",
        "    file_path = os.path.join(crop_dir, file_name)\n",
        "    file_data = preprocess_geotiff(file_path)\n",
        "    file_data['Source'] = 'Crop'  # Add source label\n",
        "    merged_data = pd.concat([merged_data, file_data], ignore_index=True)\n"
      ],
      "metadata": {
        "id": "zqn1U7HV9J8S"
      },
      "execution_count": null,
      "outputs": []
    },
    {
      "cell_type": "code",
      "source": [
        "# Process Fossil Fuel CO₂ Budget Grid\n",
        "for file_name in sorted(os.listdir(ff_dir)):\n",
        "    file_path = os.path.join(ff_dir, file_name)\n",
        "    file_data = preprocess_geotiff(file_path)\n",
        "    file_data['Source'] = 'Fossil_Fuel'\n",
        "    merged_data = pd.concat([merged_data, file_data], ignore_index=True)"
      ],
      "metadata": {
        "id": "RPaKaO419KAh"
      },
      "execution_count": null,
      "outputs": []
    },
    {
      "cell_type": "code",
      "source": [
        "# Process Land Carbon Loss CO₂ Budget Grid\n",
        "for file_name in sorted(os.listdir(land_carbon_loss_dir)):\n",
        "    file_path = os.path.join(land_carbon_loss_dir, file_name)\n",
        "    file_data = preprocess_geotiff(file_path)\n",
        "    file_data['Source'] = 'Land_Carbon_Loss'\n",
        "    merged_data = pd.concat([merged_data, file_data], ignore_index=True)"
      ],
      "metadata": {
        "id": "KGk7rpEI9KJZ"
      },
      "execution_count": null,
      "outputs": []
    },
    {
      "cell_type": "code",
      "source": [
        "# Drop any rows with missing CO₂ values\n",
        "merged_data.dropna(subset=['CO2'], inplace=True)\n"
      ],
      "metadata": {
        "id": "aWj5xmXK9iik"
      },
      "execution_count": null,
      "outputs": []
    },
    {
      "cell_type": "code",
      "source": [
        "merged_data"
      ],
      "metadata": {
        "colab": {
          "base_uri": "https://localhost:8080/",
          "height": 423
        },
        "id": "BMpQsrXZ9vjP",
        "outputId": "1b638d70-f63a-41e5-b619-bc304274c5f9"
      },
      "execution_count": null,
      "outputs": [
        {
          "output_type": "execute_result",
          "data": {
            "text/plain": [
              "         Longitude   Latitude     CO2  Year            Source\n",
              "0           -180.0 -90.000000 -9999.0  2015              Crop\n",
              "1           -180.0 -88.994413 -9999.0  2015              Crop\n",
              "2           -180.0 -87.988827 -9999.0  2015              Crop\n",
              "3           -180.0 -86.983240 -9999.0  2015              Crop\n",
              "4           -180.0 -85.977654 -9999.0  2015              Crop\n",
              "...            ...        ...     ...   ...               ...\n",
              "1166395      180.0  85.977654 -9999.0  2020  Land_Carbon_Loss\n",
              "1166396      180.0  86.983240 -9999.0  2020  Land_Carbon_Loss\n",
              "1166397      180.0  87.988827 -9999.0  2020  Land_Carbon_Loss\n",
              "1166398      180.0  88.994413 -9999.0  2020  Land_Carbon_Loss\n",
              "1166399      180.0  90.000000 -9999.0  2020  Land_Carbon_Loss\n",
              "\n",
              "[1166400 rows x 5 columns]"
            ],
            "text/html": [
              "\n",
              "  <div id=\"df-783a2953-6d53-4b5f-a131-4fcc208a3950\" class=\"colab-df-container\">\n",
              "    <div>\n",
              "<style scoped>\n",
              "    .dataframe tbody tr th:only-of-type {\n",
              "        vertical-align: middle;\n",
              "    }\n",
              "\n",
              "    .dataframe tbody tr th {\n",
              "        vertical-align: top;\n",
              "    }\n",
              "\n",
              "    .dataframe thead th {\n",
              "        text-align: right;\n",
              "    }\n",
              "</style>\n",
              "<table border=\"1\" class=\"dataframe\">\n",
              "  <thead>\n",
              "    <tr style=\"text-align: right;\">\n",
              "      <th></th>\n",
              "      <th>Longitude</th>\n",
              "      <th>Latitude</th>\n",
              "      <th>CO2</th>\n",
              "      <th>Year</th>\n",
              "      <th>Source</th>\n",
              "    </tr>\n",
              "  </thead>\n",
              "  <tbody>\n",
              "    <tr>\n",
              "      <th>0</th>\n",
              "      <td>-180.0</td>\n",
              "      <td>-90.000000</td>\n",
              "      <td>-9999.0</td>\n",
              "      <td>2015</td>\n",
              "      <td>Crop</td>\n",
              "    </tr>\n",
              "    <tr>\n",
              "      <th>1</th>\n",
              "      <td>-180.0</td>\n",
              "      <td>-88.994413</td>\n",
              "      <td>-9999.0</td>\n",
              "      <td>2015</td>\n",
              "      <td>Crop</td>\n",
              "    </tr>\n",
              "    <tr>\n",
              "      <th>2</th>\n",
              "      <td>-180.0</td>\n",
              "      <td>-87.988827</td>\n",
              "      <td>-9999.0</td>\n",
              "      <td>2015</td>\n",
              "      <td>Crop</td>\n",
              "    </tr>\n",
              "    <tr>\n",
              "      <th>3</th>\n",
              "      <td>-180.0</td>\n",
              "      <td>-86.983240</td>\n",
              "      <td>-9999.0</td>\n",
              "      <td>2015</td>\n",
              "      <td>Crop</td>\n",
              "    </tr>\n",
              "    <tr>\n",
              "      <th>4</th>\n",
              "      <td>-180.0</td>\n",
              "      <td>-85.977654</td>\n",
              "      <td>-9999.0</td>\n",
              "      <td>2015</td>\n",
              "      <td>Crop</td>\n",
              "    </tr>\n",
              "    <tr>\n",
              "      <th>...</th>\n",
              "      <td>...</td>\n",
              "      <td>...</td>\n",
              "      <td>...</td>\n",
              "      <td>...</td>\n",
              "      <td>...</td>\n",
              "    </tr>\n",
              "    <tr>\n",
              "      <th>1166395</th>\n",
              "      <td>180.0</td>\n",
              "      <td>85.977654</td>\n",
              "      <td>-9999.0</td>\n",
              "      <td>2020</td>\n",
              "      <td>Land_Carbon_Loss</td>\n",
              "    </tr>\n",
              "    <tr>\n",
              "      <th>1166396</th>\n",
              "      <td>180.0</td>\n",
              "      <td>86.983240</td>\n",
              "      <td>-9999.0</td>\n",
              "      <td>2020</td>\n",
              "      <td>Land_Carbon_Loss</td>\n",
              "    </tr>\n",
              "    <tr>\n",
              "      <th>1166397</th>\n",
              "      <td>180.0</td>\n",
              "      <td>87.988827</td>\n",
              "      <td>-9999.0</td>\n",
              "      <td>2020</td>\n",
              "      <td>Land_Carbon_Loss</td>\n",
              "    </tr>\n",
              "    <tr>\n",
              "      <th>1166398</th>\n",
              "      <td>180.0</td>\n",
              "      <td>88.994413</td>\n",
              "      <td>-9999.0</td>\n",
              "      <td>2020</td>\n",
              "      <td>Land_Carbon_Loss</td>\n",
              "    </tr>\n",
              "    <tr>\n",
              "      <th>1166399</th>\n",
              "      <td>180.0</td>\n",
              "      <td>90.000000</td>\n",
              "      <td>-9999.0</td>\n",
              "      <td>2020</td>\n",
              "      <td>Land_Carbon_Loss</td>\n",
              "    </tr>\n",
              "  </tbody>\n",
              "</table>\n",
              "<p>1166400 rows × 5 columns</p>\n",
              "</div>\n",
              "    <div class=\"colab-df-buttons\">\n",
              "\n",
              "  <div class=\"colab-df-container\">\n",
              "    <button class=\"colab-df-convert\" onclick=\"convertToInteractive('df-783a2953-6d53-4b5f-a131-4fcc208a3950')\"\n",
              "            title=\"Convert this dataframe to an interactive table.\"\n",
              "            style=\"display:none;\">\n",
              "\n",
              "  <svg xmlns=\"http://www.w3.org/2000/svg\" height=\"24px\" viewBox=\"0 -960 960 960\">\n",
              "    <path d=\"M120-120v-720h720v720H120Zm60-500h600v-160H180v160Zm220 220h160v-160H400v160Zm0 220h160v-160H400v160ZM180-400h160v-160H180v160Zm440 0h160v-160H620v160ZM180-180h160v-160H180v160Zm440 0h160v-160H620v160Z\"/>\n",
              "  </svg>\n",
              "    </button>\n",
              "\n",
              "  <style>\n",
              "    .colab-df-container {\n",
              "      display:flex;\n",
              "      gap: 12px;\n",
              "    }\n",
              "\n",
              "    .colab-df-convert {\n",
              "      background-color: #E8F0FE;\n",
              "      border: none;\n",
              "      border-radius: 50%;\n",
              "      cursor: pointer;\n",
              "      display: none;\n",
              "      fill: #1967D2;\n",
              "      height: 32px;\n",
              "      padding: 0 0 0 0;\n",
              "      width: 32px;\n",
              "    }\n",
              "\n",
              "    .colab-df-convert:hover {\n",
              "      background-color: #E2EBFA;\n",
              "      box-shadow: 0px 1px 2px rgba(60, 64, 67, 0.3), 0px 1px 3px 1px rgba(60, 64, 67, 0.15);\n",
              "      fill: #174EA6;\n",
              "    }\n",
              "\n",
              "    .colab-df-buttons div {\n",
              "      margin-bottom: 4px;\n",
              "    }\n",
              "\n",
              "    [theme=dark] .colab-df-convert {\n",
              "      background-color: #3B4455;\n",
              "      fill: #D2E3FC;\n",
              "    }\n",
              "\n",
              "    [theme=dark] .colab-df-convert:hover {\n",
              "      background-color: #434B5C;\n",
              "      box-shadow: 0px 1px 3px 1px rgba(0, 0, 0, 0.15);\n",
              "      filter: drop-shadow(0px 1px 2px rgba(0, 0, 0, 0.3));\n",
              "      fill: #FFFFFF;\n",
              "    }\n",
              "  </style>\n",
              "\n",
              "    <script>\n",
              "      const buttonEl =\n",
              "        document.querySelector('#df-783a2953-6d53-4b5f-a131-4fcc208a3950 button.colab-df-convert');\n",
              "      buttonEl.style.display =\n",
              "        google.colab.kernel.accessAllowed ? 'block' : 'none';\n",
              "\n",
              "      async function convertToInteractive(key) {\n",
              "        const element = document.querySelector('#df-783a2953-6d53-4b5f-a131-4fcc208a3950');\n",
              "        const dataTable =\n",
              "          await google.colab.kernel.invokeFunction('convertToInteractive',\n",
              "                                                    [key], {});\n",
              "        if (!dataTable) return;\n",
              "\n",
              "        const docLinkHtml = 'Like what you see? Visit the ' +\n",
              "          '<a target=\"_blank\" href=https://colab.research.google.com/notebooks/data_table.ipynb>data table notebook</a>'\n",
              "          + ' to learn more about interactive tables.';\n",
              "        element.innerHTML = '';\n",
              "        dataTable['output_type'] = 'display_data';\n",
              "        await google.colab.output.renderOutput(dataTable, element);\n",
              "        const docLink = document.createElement('div');\n",
              "        docLink.innerHTML = docLinkHtml;\n",
              "        element.appendChild(docLink);\n",
              "      }\n",
              "    </script>\n",
              "  </div>\n",
              "\n",
              "\n",
              "<div id=\"df-d81b48d6-14a7-4042-9d39-5fe862a9c5e1\">\n",
              "  <button class=\"colab-df-quickchart\" onclick=\"quickchart('df-d81b48d6-14a7-4042-9d39-5fe862a9c5e1')\"\n",
              "            title=\"Suggest charts\"\n",
              "            style=\"display:none;\">\n",
              "\n",
              "<svg xmlns=\"http://www.w3.org/2000/svg\" height=\"24px\"viewBox=\"0 0 24 24\"\n",
              "     width=\"24px\">\n",
              "    <g>\n",
              "        <path d=\"M19 3H5c-1.1 0-2 .9-2 2v14c0 1.1.9 2 2 2h14c1.1 0 2-.9 2-2V5c0-1.1-.9-2-2-2zM9 17H7v-7h2v7zm4 0h-2V7h2v10zm4 0h-2v-4h2v4z\"/>\n",
              "    </g>\n",
              "</svg>\n",
              "  </button>\n",
              "\n",
              "<style>\n",
              "  .colab-df-quickchart {\n",
              "      --bg-color: #E8F0FE;\n",
              "      --fill-color: #1967D2;\n",
              "      --hover-bg-color: #E2EBFA;\n",
              "      --hover-fill-color: #174EA6;\n",
              "      --disabled-fill-color: #AAA;\n",
              "      --disabled-bg-color: #DDD;\n",
              "  }\n",
              "\n",
              "  [theme=dark] .colab-df-quickchart {\n",
              "      --bg-color: #3B4455;\n",
              "      --fill-color: #D2E3FC;\n",
              "      --hover-bg-color: #434B5C;\n",
              "      --hover-fill-color: #FFFFFF;\n",
              "      --disabled-bg-color: #3B4455;\n",
              "      --disabled-fill-color: #666;\n",
              "  }\n",
              "\n",
              "  .colab-df-quickchart {\n",
              "    background-color: var(--bg-color);\n",
              "    border: none;\n",
              "    border-radius: 50%;\n",
              "    cursor: pointer;\n",
              "    display: none;\n",
              "    fill: var(--fill-color);\n",
              "    height: 32px;\n",
              "    padding: 0;\n",
              "    width: 32px;\n",
              "  }\n",
              "\n",
              "  .colab-df-quickchart:hover {\n",
              "    background-color: var(--hover-bg-color);\n",
              "    box-shadow: 0 1px 2px rgba(60, 64, 67, 0.3), 0 1px 3px 1px rgba(60, 64, 67, 0.15);\n",
              "    fill: var(--button-hover-fill-color);\n",
              "  }\n",
              "\n",
              "  .colab-df-quickchart-complete:disabled,\n",
              "  .colab-df-quickchart-complete:disabled:hover {\n",
              "    background-color: var(--disabled-bg-color);\n",
              "    fill: var(--disabled-fill-color);\n",
              "    box-shadow: none;\n",
              "  }\n",
              "\n",
              "  .colab-df-spinner {\n",
              "    border: 2px solid var(--fill-color);\n",
              "    border-color: transparent;\n",
              "    border-bottom-color: var(--fill-color);\n",
              "    animation:\n",
              "      spin 1s steps(1) infinite;\n",
              "  }\n",
              "\n",
              "  @keyframes spin {\n",
              "    0% {\n",
              "      border-color: transparent;\n",
              "      border-bottom-color: var(--fill-color);\n",
              "      border-left-color: var(--fill-color);\n",
              "    }\n",
              "    20% {\n",
              "      border-color: transparent;\n",
              "      border-left-color: var(--fill-color);\n",
              "      border-top-color: var(--fill-color);\n",
              "    }\n",
              "    30% {\n",
              "      border-color: transparent;\n",
              "      border-left-color: var(--fill-color);\n",
              "      border-top-color: var(--fill-color);\n",
              "      border-right-color: var(--fill-color);\n",
              "    }\n",
              "    40% {\n",
              "      border-color: transparent;\n",
              "      border-right-color: var(--fill-color);\n",
              "      border-top-color: var(--fill-color);\n",
              "    }\n",
              "    60% {\n",
              "      border-color: transparent;\n",
              "      border-right-color: var(--fill-color);\n",
              "    }\n",
              "    80% {\n",
              "      border-color: transparent;\n",
              "      border-right-color: var(--fill-color);\n",
              "      border-bottom-color: var(--fill-color);\n",
              "    }\n",
              "    90% {\n",
              "      border-color: transparent;\n",
              "      border-bottom-color: var(--fill-color);\n",
              "    }\n",
              "  }\n",
              "</style>\n",
              "\n",
              "  <script>\n",
              "    async function quickchart(key) {\n",
              "      const quickchartButtonEl =\n",
              "        document.querySelector('#' + key + ' button');\n",
              "      quickchartButtonEl.disabled = true;  // To prevent multiple clicks.\n",
              "      quickchartButtonEl.classList.add('colab-df-spinner');\n",
              "      try {\n",
              "        const charts = await google.colab.kernel.invokeFunction(\n",
              "            'suggestCharts', [key], {});\n",
              "      } catch (error) {\n",
              "        console.error('Error during call to suggestCharts:', error);\n",
              "      }\n",
              "      quickchartButtonEl.classList.remove('colab-df-spinner');\n",
              "      quickchartButtonEl.classList.add('colab-df-quickchart-complete');\n",
              "    }\n",
              "    (() => {\n",
              "      let quickchartButtonEl =\n",
              "        document.querySelector('#df-d81b48d6-14a7-4042-9d39-5fe862a9c5e1 button');\n",
              "      quickchartButtonEl.style.display =\n",
              "        google.colab.kernel.accessAllowed ? 'block' : 'none';\n",
              "    })();\n",
              "  </script>\n",
              "</div>\n",
              "\n",
              "  <div id=\"id_1d4daa68-e90b-4ec3-8d5b-8312f70dc3b4\">\n",
              "    <style>\n",
              "      .colab-df-generate {\n",
              "        background-color: #E8F0FE;\n",
              "        border: none;\n",
              "        border-radius: 50%;\n",
              "        cursor: pointer;\n",
              "        display: none;\n",
              "        fill: #1967D2;\n",
              "        height: 32px;\n",
              "        padding: 0 0 0 0;\n",
              "        width: 32px;\n",
              "      }\n",
              "\n",
              "      .colab-df-generate:hover {\n",
              "        background-color: #E2EBFA;\n",
              "        box-shadow: 0px 1px 2px rgba(60, 64, 67, 0.3), 0px 1px 3px 1px rgba(60, 64, 67, 0.15);\n",
              "        fill: #174EA6;\n",
              "      }\n",
              "\n",
              "      [theme=dark] .colab-df-generate {\n",
              "        background-color: #3B4455;\n",
              "        fill: #D2E3FC;\n",
              "      }\n",
              "\n",
              "      [theme=dark] .colab-df-generate:hover {\n",
              "        background-color: #434B5C;\n",
              "        box-shadow: 0px 1px 3px 1px rgba(0, 0, 0, 0.15);\n",
              "        filter: drop-shadow(0px 1px 2px rgba(0, 0, 0, 0.3));\n",
              "        fill: #FFFFFF;\n",
              "      }\n",
              "    </style>\n",
              "    <button class=\"colab-df-generate\" onclick=\"generateWithVariable('merged_data')\"\n",
              "            title=\"Generate code using this dataframe.\"\n",
              "            style=\"display:none;\">\n",
              "\n",
              "  <svg xmlns=\"http://www.w3.org/2000/svg\" height=\"24px\"viewBox=\"0 0 24 24\"\n",
              "       width=\"24px\">\n",
              "    <path d=\"M7,19H8.4L18.45,9,17,7.55,7,17.6ZM5,21V16.75L18.45,3.32a2,2,0,0,1,2.83,0l1.4,1.43a1.91,1.91,0,0,1,.58,1.4,1.91,1.91,0,0,1-.58,1.4L9.25,21ZM18.45,9,17,7.55Zm-12,3A5.31,5.31,0,0,0,4.9,8.1,5.31,5.31,0,0,0,1,6.5,5.31,5.31,0,0,0,4.9,4.9,5.31,5.31,0,0,0,6.5,1,5.31,5.31,0,0,0,8.1,4.9,5.31,5.31,0,0,0,12,6.5,5.46,5.46,0,0,0,6.5,12Z\"/>\n",
              "  </svg>\n",
              "    </button>\n",
              "    <script>\n",
              "      (() => {\n",
              "      const buttonEl =\n",
              "        document.querySelector('#id_1d4daa68-e90b-4ec3-8d5b-8312f70dc3b4 button.colab-df-generate');\n",
              "      buttonEl.style.display =\n",
              "        google.colab.kernel.accessAllowed ? 'block' : 'none';\n",
              "\n",
              "      buttonEl.onclick = () => {\n",
              "        google.colab.notebook.generateWithVariable('merged_data');\n",
              "      }\n",
              "      })();\n",
              "    </script>\n",
              "  </div>\n",
              "\n",
              "    </div>\n",
              "  </div>\n"
            ],
            "application/vnd.google.colaboratory.intrinsic+json": {
              "type": "dataframe",
              "variable_name": "merged_data"
            }
          },
          "metadata": {},
          "execution_count": 11
        }
      ]
    },
    {
      "cell_type": "code",
      "source": [
        "# **2. Prepare Data for LSTM**\n",
        "# Pivot the data so that each column represents the CO2 for a year\n",
        "pivot_data = merged_data.pivot_table(index=['Longitude', 'Latitude', 'Source'], columns='Year', values='CO2').reset_index()\n",
        "\n",
        "# Use only the years as columns\n",
        "years = sorted([col for col in pivot_data.columns if isinstance(col, int)])\n",
        "co2_data = pivot_data[years].values"
      ],
      "metadata": {
        "id": "Kj2KDW_i9il-"
      },
      "execution_count": null,
      "outputs": []
    },
    {
      "cell_type": "code",
      "source": [
        "# Normalize the CO₂ data\n",
        "scaler = MinMaxScaler()\n",
        "co2_scaled = scaler.fit_transform(co2_data)"
      ],
      "metadata": {
        "id": "qLa205_79itD"
      },
      "execution_count": null,
      "outputs": []
    },
    {
      "cell_type": "code",
      "source": [
        "# Reshape the data for LSTM: (samples, time steps, features)\n",
        "X, y = [], []\n",
        "n_steps = 5  # Number of years to look back\n",
        "for i in range(n_steps, co2_scaled.shape[1]):\n",
        "    X.append(co2_scaled[:, i - n_steps:i])\n",
        "    y.append(co2_scaled[:, i])\n",
        "\n",
        "X, y = np.array(X), np.array(y)"
      ],
      "metadata": {
        "id": "MVr44-Ac_xg6"
      },
      "execution_count": null,
      "outputs": []
    },
    {
      "cell_type": "markdown",
      "source": [
        "---"
      ],
      "metadata": {
        "id": "8lQcONFJ4Y9r"
      }
    },
    {
      "cell_type": "markdown",
      "source": [
        "# **3.Modeling**"
      ],
      "metadata": {
        "id": "Nn8lIyWC3qkV"
      }
    },
    {
      "cell_type": "code",
      "source": [
        "# **3. Build and Train LSTM Model with Accuracy Calculation**\n",
        "# Define the LSTM model\n",
        "model = Sequential()\n",
        "model.add(LSTM(100, activation='relu', input_shape=(n_steps, X.shape[2])))\n",
        "model.add(Dense(1))\n",
        "model.summary()"
      ],
      "metadata": {
        "colab": {
          "base_uri": "https://localhost:8080/",
          "height": 248
        },
        "id": "dhHWmsfk3lpY",
        "outputId": "ecebc764-20cf-4cbf-a73c-9cebcb7b85b3"
      },
      "execution_count": null,
      "outputs": [
        {
          "output_type": "stream",
          "name": "stderr",
          "text": [
            "/usr/local/lib/python3.10/dist-packages/keras/src/layers/rnn/rnn.py:204: UserWarning: Do not pass an `input_shape`/`input_dim` argument to a layer. When using Sequential models, prefer using an `Input(shape)` object as the first layer in the model instead.\n",
            "  super().__init__(**kwargs)\n"
          ]
        },
        {
          "output_type": "display_data",
          "data": {
            "text/plain": [
              "\u001b[1mModel: \"sequential\"\u001b[0m\n"
            ],
            "text/html": [
              "<pre style=\"white-space:pre;overflow-x:auto;line-height:normal;font-family:Menlo,'DejaVu Sans Mono',consolas,'Courier New',monospace\"><span style=\"font-weight: bold\">Model: \"sequential\"</span>\n",
              "</pre>\n"
            ]
          },
          "metadata": {}
        },
        {
          "output_type": "display_data",
          "data": {
            "text/plain": [
              "┏━━━━━━━━━━━━━━━━━━━━━━━━━━━━━━━━━━━━━━┳━━━━━━━━━━━━━━━━━━━━━━━━━━━━━┳━━━━━━━━━━━━━━━━━┓\n",
              "┃\u001b[1m \u001b[0m\u001b[1mLayer (type)                        \u001b[0m\u001b[1m \u001b[0m┃\u001b[1m \u001b[0m\u001b[1mOutput Shape               \u001b[0m\u001b[1m \u001b[0m┃\u001b[1m \u001b[0m\u001b[1m        Param #\u001b[0m\u001b[1m \u001b[0m┃\n",
              "┡━━━━━━━━━━━━━━━━━━━━━━━━━━━━━━━━━━━━━━╇━━━━━━━━━━━━━━━━━━━━━━━━━━━━━╇━━━━━━━━━━━━━━━━━┩\n",
              "│ lstm (\u001b[38;5;33mLSTM\u001b[0m)                          │ (\u001b[38;5;45mNone\u001b[0m, \u001b[38;5;34m100\u001b[0m)                 │          \u001b[38;5;34m42,400\u001b[0m │\n",
              "├──────────────────────────────────────┼─────────────────────────────┼─────────────────┤\n",
              "│ dense (\u001b[38;5;33mDense\u001b[0m)                        │ (\u001b[38;5;45mNone\u001b[0m, \u001b[38;5;34m1\u001b[0m)                   │             \u001b[38;5;34m101\u001b[0m │\n",
              "└──────────────────────────────────────┴─────────────────────────────┴─────────────────┘\n"
            ],
            "text/html": [
              "<pre style=\"white-space:pre;overflow-x:auto;line-height:normal;font-family:Menlo,'DejaVu Sans Mono',consolas,'Courier New',monospace\">┏━━━━━━━━━━━━━━━━━━━━━━━━━━━━━━━━━━━━━━┳━━━━━━━━━━━━━━━━━━━━━━━━━━━━━┳━━━━━━━━━━━━━━━━━┓\n",
              "┃<span style=\"font-weight: bold\"> Layer (type)                         </span>┃<span style=\"font-weight: bold\"> Output Shape                </span>┃<span style=\"font-weight: bold\">         Param # </span>┃\n",
              "┡━━━━━━━━━━━━━━━━━━━━━━━━━━━━━━━━━━━━━━╇━━━━━━━━━━━━━━━━━━━━━━━━━━━━━╇━━━━━━━━━━━━━━━━━┩\n",
              "│ lstm (<span style=\"color: #0087ff; text-decoration-color: #0087ff\">LSTM</span>)                          │ (<span style=\"color: #00d7ff; text-decoration-color: #00d7ff\">None</span>, <span style=\"color: #00af00; text-decoration-color: #00af00\">100</span>)                 │          <span style=\"color: #00af00; text-decoration-color: #00af00\">42,400</span> │\n",
              "├──────────────────────────────────────┼─────────────────────────────┼─────────────────┤\n",
              "│ dense (<span style=\"color: #0087ff; text-decoration-color: #0087ff\">Dense</span>)                        │ (<span style=\"color: #00d7ff; text-decoration-color: #00d7ff\">None</span>, <span style=\"color: #00af00; text-decoration-color: #00af00\">1</span>)                   │             <span style=\"color: #00af00; text-decoration-color: #00af00\">101</span> │\n",
              "└──────────────────────────────────────┴─────────────────────────────┴─────────────────┘\n",
              "</pre>\n"
            ]
          },
          "metadata": {}
        },
        {
          "output_type": "display_data",
          "data": {
            "text/plain": [
              "\u001b[1m Total params: \u001b[0m\u001b[38;5;34m42,501\u001b[0m (166.02 KB)\n"
            ],
            "text/html": [
              "<pre style=\"white-space:pre;overflow-x:auto;line-height:normal;font-family:Menlo,'DejaVu Sans Mono',consolas,'Courier New',monospace\"><span style=\"font-weight: bold\"> Total params: </span><span style=\"color: #00af00; text-decoration-color: #00af00\">42,501</span> (166.02 KB)\n",
              "</pre>\n"
            ]
          },
          "metadata": {}
        },
        {
          "output_type": "display_data",
          "data": {
            "text/plain": [
              "\u001b[1m Trainable params: \u001b[0m\u001b[38;5;34m42,501\u001b[0m (166.02 KB)\n"
            ],
            "text/html": [
              "<pre style=\"white-space:pre;overflow-x:auto;line-height:normal;font-family:Menlo,'DejaVu Sans Mono',consolas,'Courier New',monospace\"><span style=\"font-weight: bold\"> Trainable params: </span><span style=\"color: #00af00; text-decoration-color: #00af00\">42,501</span> (166.02 KB)\n",
              "</pre>\n"
            ]
          },
          "metadata": {}
        },
        {
          "output_type": "display_data",
          "data": {
            "text/plain": [
              "\u001b[1m Non-trainable params: \u001b[0m\u001b[38;5;34m0\u001b[0m (0.00 B)\n"
            ],
            "text/html": [
              "<pre style=\"white-space:pre;overflow-x:auto;line-height:normal;font-family:Menlo,'DejaVu Sans Mono',consolas,'Courier New',monospace\"><span style=\"font-weight: bold\"> Non-trainable params: </span><span style=\"color: #00af00; text-decoration-color: #00af00\">0</span> (0.00 B)\n",
              "</pre>\n"
            ]
          },
          "metadata": {}
        }
      ]
    },
    {
      "cell_type": "code",
      "source": [
        "# Compile the model with Mean Squared Error and accuracy as a metric\n",
        "model.compile(optimizer='adam', loss='mse', metrics=['mean_squared_error'])\n",
        "\n",
        "# Train the model with a smaller batch size\n",
        "history = model.fit(X, y, epochs=10, verbose=1, batch_size=8)"
      ],
      "metadata": {
        "colab": {
          "base_uri": "https://localhost:8080/"
        },
        "id": "7bOtVyNw3lx8",
        "outputId": "205c248d-2fd8-4ef7-90b5-5c0bceae83a9"
      },
      "execution_count": null,
      "outputs": [
        {
          "output_type": "stream",
          "name": "stdout",
          "text": [
            "Epoch 1/10\n"
          ]
        }
      ]
    },
    {
      "cell_type": "code",
      "source": [
        "# Evaluate the model\n",
        "loss, mse = model.evaluate(X, y, verbose=1)\n",
        "print(f'Mean Squared Error: {mse}')"
      ],
      "metadata": {
        "id": "qHQGBQfQ3l07"
      },
      "execution_count": null,
      "outputs": []
    },
    {
      "cell_type": "code",
      "source": [
        "# **4. Predict CO₂ for Next 5 Years**\n",
        "# Predict for the next 5 years using the last sequence\n",
        "last_sequence = co2_scaled[:, -n_steps:]  # Last n_steps years of data\n",
        "future_co2_predictions = []\n",
        "\n",
        "for _ in range(5):\n",
        "    prediction = model.predict(last_sequence)\n",
        "    future_co2_predictions.append(prediction)\n",
        "    last_sequence = np.hstack([last_sequence[:, 1:], prediction])\n",
        "\n",
        "# Rescale the predictions back to the original scale\n",
        "future_co2_predictions_rescaled = scaler.inverse_transform(np.array(future_co2_predictions).reshape(-1, 1))\n",
        "\n",
        "# Convert to DataFrame\n",
        "future_years = range(years[-1] + 1, years[-1] + 6)\n",
        "future_predictions_df = pd.DataFrame(future_co2_predictions_rescaled, columns=['Predicted_CO2'])\n",
        "future_predictions_df['Year'] = future_years"
      ],
      "metadata": {
        "id": "gzVx0OWA3l4O"
      },
      "execution_count": null,
      "outputs": []
    },
    {
      "cell_type": "code",
      "source": [
        "future_predictions_df"
      ],
      "metadata": {
        "id": "KDfQmryD3l7L"
      },
      "execution_count": null,
      "outputs": []
    },
    {
      "cell_type": "code",
      "source": [
        "# Plot training history to visualize the loss over time\n",
        "plt.plot(history.history['loss'], label='Training Loss')\n",
        "plt.plot(history.history['val_loss'], label='Validation Loss')\n",
        "plt.title('Model Loss Over Epochs')\n",
        "plt.ylabel('Loss (MSE)')\n",
        "plt.xlabel('Epoch')\n",
        "plt.legend()\n",
        "plt.show()"
      ],
      "metadata": {
        "id": "zC1DH4Ww3l-Y"
      },
      "execution_count": null,
      "outputs": []
    },
    {
      "cell_type": "code",
      "source": [],
      "metadata": {
        "id": "UBvQmJe93mBj"
      },
      "execution_count": null,
      "outputs": []
    },
    {
      "cell_type": "code",
      "source": [],
      "metadata": {
        "id": "mDK7tivp_ZXk"
      },
      "execution_count": null,
      "outputs": []
    },
    {
      "cell_type": "code",
      "source": [],
      "metadata": {
        "id": "he82okUz-x3T"
      },
      "execution_count": null,
      "outputs": []
    },
    {
      "cell_type": "code",
      "source": [],
      "metadata": {
        "id": "PeBX0wSP-x8r"
      },
      "execution_count": null,
      "outputs": []
    },
    {
      "cell_type": "code",
      "source": [],
      "metadata": {
        "id": "JZ55HjMV-yCW"
      },
      "execution_count": null,
      "outputs": []
    }
  ]
}