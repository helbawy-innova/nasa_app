{
 "cells": [
  {
   "cell_type": "code",
   "execution_count": 1,
   "id": "ec17d989",
   "metadata": {
    "_cell_guid": "b1076dfc-b9ad-4769-8c92-a6c4dae69d19",
    "_uuid": "8f2839f25d086af736a60e9eeb907d3b93b6e0e5",
    "execution": {
     "iopub.execute_input": "2023-01-17T15:35:04.600801Z",
     "iopub.status.busy": "2023-01-17T15:35:04.599818Z",
     "iopub.status.idle": "2023-01-17T15:35:04.660317Z",
     "shell.execute_reply": "2023-01-17T15:35:04.659312Z"
    },
    "papermill": {
     "duration": 0.087166,
     "end_time": "2023-01-17T15:35:04.663004",
     "exception": false,
     "start_time": "2023-01-17T15:35:04.575838",
     "status": "completed"
    },
    "tags": []
   },
   "outputs": [],
   "source": [
    "import pandas as pd\n",
    "import numpy as np\n",
    "import matplotlib.pyplot as plt\n",
    "\n",
    "data = pd.read_csv(\"/kaggle/input/international-greenhouse-gas-emissions/greenhouse_gas_inventory_data_data.csv\")\n",
    "# Uses pandas to read the dataset in a dataframe"
   ]
  },
  {
   "cell_type": "markdown",
   "id": "6cad5ec8",
   "metadata": {
    "papermill": {
     "duration": 0.020884,
     "end_time": "2023-01-17T15:35:04.704730",
     "exception": false,
     "start_time": "2023-01-17T15:35:04.683846",
     "status": "completed"
    },
    "tags": []
   },
   "source": [
    "### DATA PRE-PROCESSING"
   ]
  },
  {
   "cell_type": "code",
   "execution_count": 2,
   "id": "82581a5d",
   "metadata": {
    "execution": {
     "iopub.execute_input": "2023-01-17T15:35:04.748298Z",
     "iopub.status.busy": "2023-01-17T15:35:04.747351Z",
     "iopub.status.idle": "2023-01-17T15:35:04.757499Z",
     "shell.execute_reply": "2023-01-17T15:35:04.756730Z"
    },
    "papermill": {
     "duration": 0.034912,
     "end_time": "2023-01-17T15:35:04.760395",
     "exception": false,
     "start_time": "2023-01-17T15:35:04.725483",
     "status": "completed"
    },
    "tags": []
   },
   "outputs": [
    {
     "name": "stdout",
     "output_type": "stream",
     "text": [
      "[278265.89894077 279741.63901186 284766.09271784 289142.26768133\n",
      " 293830.70914119 305162.54354873 311914.81982423 320439.11681939\n",
      " 334328.1426466  343713.90694777 349885.43310893 357653.3298993\n",
      " 361861.38789603 368345.97742511 381519.26159278 385581.13280647\n",
      " 391134.10090945 398816.45354355 404237.82821408 408448.47899963\n",
      " 406200.99318434 403705.52831399 406462.8477036  396913.93653029\n",
      " 393126.94699429]\n",
      "[418623.04956265 418674.05749386 423080.10819125 423764.93256425\n",
      " 424092.95937256 433478.65082585 439803.96222825 451721.71781467\n",
      " 466382.11247181 472245.9907776  483445.82666482 491441.69593714\n",
      " 494740.10077673 495154.0859668  511710.24202082 518850.75946238\n",
      " 522517.19166329 529842.87034248 533693.50820738 537889.89262362\n",
      " 533917.43629539 534089.79868471 537377.5714528  526882.66726659\n",
      " 522397.09071135]\n"
     ]
    }
   ],
   "source": [
    "AustraliaC = data.iloc[0:25,2] \n",
    "# The carbon dioxide values for Australia are on the third column and the first through 25th rows\n",
    "AustraliaC = np.array(AustraliaC)\n",
    "# Turns the carbon dioxide values for Australia into a numpy array\n",
    "AustraliaC = np.flip(AustraliaC)\n",
    "# Flips the values of the numpy array from reverse-chronological order (2014-1990) to chronological order (1990-2014)\n",
    "\n",
    "# Repeat the above process for the greenhouse gas values\n",
    "\n",
    "AustraliaG = data.iloc[1074:1099,2] \n",
    "# The greenhouse gas for Australia are on the third column and the 1075th through 1100th rows\n",
    "AustraliaG = np.array(AustraliaG)\n",
    "# Turns the greenhouse gas values for Australia into a numpy array\n",
    "AustraliaG = np.flip(AustraliaG)\n",
    "# Flips the values of the numpy array from reverse-chronological order (2014-1990) to chronological order (1990-2014)\n",
    "\n",
    "print(AustraliaC)\n",
    "print(AustraliaG)"
   ]
  },
  {
   "cell_type": "code",
   "execution_count": 3,
   "id": "d7fdc86d",
   "metadata": {
    "execution": {
     "iopub.execute_input": "2023-01-17T15:35:04.805083Z",
     "iopub.status.busy": "2023-01-17T15:35:04.804375Z",
     "iopub.status.idle": "2023-01-17T15:35:05.085765Z",
     "shell.execute_reply": "2023-01-17T15:35:05.084256Z"
    },
    "papermill": {
     "duration": 0.30962,
     "end_time": "2023-01-17T15:35:05.091683",
     "exception": false,
     "start_time": "2023-01-17T15:35:04.782063",
     "status": "completed"
    },
    "tags": []
   },
   "outputs": [
    {
     "data": {
      "image/png": "[encoded data removed]",
      "text/plain": [
       "<Figure size 640x480 with 1 Axes>"
      ]
     },
     "metadata": {
      "needs_background": "light"
     },
     "output_type": "display_data"
    }
   ],
   "source": [
    "# Plotting Australia's carbon dioxide value array and greenhouse gas value array\n",
    "\n",
    "x = np.linspace(1990, 2014, num = 25) # Creates a numpy array containing all of the values of x for the plot\n",
    "\n",
    "plt.figure(figsize=(8, 6), dpi=80)\n",
    "plt.scatter(x, AustraliaC, marker = 'o', color = 'blue', label = 'CO2 Emissions')\n",
    "plt.scatter(x, AustraliaG, marker = '^', color = 'green', label = 'GHG Emissions')\n",
    "\n",
    "plt.title('Annual CO2 Emissions vs Annual GHG Emissions in Australia')\n",
    "plt.xlabel('Year')\n",
    "plt.ylabel('Emissions (kilotons)')\n",
    "plt.legend()\n",
    "plt.show()"
   ]
  },
  {
   "cell_type": "code",
   "execution_count": 4,
   "id": "3d9a02a7",
   "metadata": {
    "execution": {
     "iopub.execute_input": "2023-01-17T15:35:05.142770Z",
     "iopub.status.busy": "2023-01-17T15:35:05.142046Z",
     "iopub.status.idle": "2023-01-17T15:35:05.147839Z",
     "shell.execute_reply": "2023-01-17T15:35:05.147095Z"
    },
    "papermill": {
     "duration": 0.035107,
     "end_time": "2023-01-17T15:35:05.149888",
     "exception": false,
     "start_time": "2023-01-17T15:35:05.114781",
     "status": "completed"
    },
    "tags": []
   },
   "outputs": [],
   "source": [
    "AustriaC = data.iloc[25:50,2]\n",
    "AustriaC = np.array(AustriaC)\n",
    "AustriaC = np.flip(AustriaC)\n",
    "\n",
    "AustriaG = data.iloc[1099:1124,2]\n",
    "AustriaG = np.array(AustriaG)\n",
    "AustriaG = np.flip(AustriaG)"
   ]
  },
  {
   "cell_type": "code",
   "execution_count": 5,
   "id": "e2dfc853",
   "metadata": {
    "execution": {
     "iopub.execute_input": "2023-01-17T15:35:05.194143Z",
     "iopub.status.busy": "2023-01-17T15:35:05.193422Z",
     "iopub.status.idle": "2023-01-17T15:35:05.199561Z",
     "shell.execute_reply": "2023-01-17T15:35:05.198785Z"
    },
    "papermill": {
     "duration": 0.030314,
     "end_time": "2023-01-17T15:35:05.201527",
     "exception": false,
     "start_time": "2023-01-17T15:35:05.171213",
     "status": "completed"
    },
    "tags": []
   },
   "outputs": [],
   "source": [
    "BelarusC = data.iloc[50:75,2]\n",
    "BelarusC = np.array(BelarusC)\n",
    "BelarusC = np.flip(BelarusC)\n",
    "\n",
    "BelarusG = data.iloc[1124:1149,2]\n",
    "BelarusG = np.array(BelarusG)\n",
    "BelarusG = np.flip(BelarusG)"
   ]
  },
  {
   "cell_type": "code",
   "execution_count": 6,
   "id": "c93cc2e9",
   "metadata": {
    "execution": {
     "iopub.execute_input": "2023-01-17T15:35:05.244798Z",
     "iopub.status.busy": "2023-01-17T15:35:05.244119Z",
     "iopub.status.idle": "2023-01-17T15:35:05.249805Z",
     "shell.execute_reply": "2023-01-17T15:35:05.249085Z"
    },
    "papermill": {
     "duration": 0.029921,
     "end_time": "2023-01-17T15:35:05.252033",
     "exception": false,
     "start_time": "2023-01-17T15:35:05.222112",
     "status": "completed"
    },
    "tags": []
   },
   "outputs": [],
   "source": [
    "BelgiumC = data.iloc[75:100,2]\n",
    "BelgiumC = np.array(BelgiumC)\n",
    "BelgiumC = np.flip(BelgiumC)\n",
    "\n",
    "BelgiumG = data.iloc[1149:1174,2]\n",
    "BelgiumG = np.array(BelgiumG)\n",
    "BelgiumG = np.flip(BelgiumG)"
   ]
  },
  {
   "cell_type": "code",
   "execution_count": 7,
   "id": "83dcc255",
   "metadata": {
    "execution": {
     "iopub.execute_input": "2023-01-17T15:35:05.303314Z",
     "iopub.status.busy": "2023-01-17T15:35:05.302335Z",
     "iopub.status.idle": "2023-01-17T15:35:05.309375Z",
     "shell.execute_reply": "2023-01-17T15:35:05.307895Z"
    },
    "papermill": {
     "duration": 0.038343,
     "end_time": "2023-01-17T15:35:05.312100",
     "exception": false,
     "start_time": "2023-01-17T15:35:05.273757",
     "status": "completed"
    },
    "tags": []
   },
   "outputs": [],
   "source": [
    "BulgariaC = data.iloc[100:125,2]\n",
    "BulgariaC = np.array(BulgariaC)\n",
    "BulgariaC = np.flip(BulgariaC)\n",
    "\n",
    "# Bulgaria does not have greenhouse gas values in the data set so it cannot be included"
   ]
  },
  {
   "cell_type": "code",
   "execution_count": 8,
   "id": "0b78c107",
   "metadata": {
    "execution": {
     "iopub.execute_input": "2023-01-17T15:35:05.357324Z",
     "iopub.status.busy": "2023-01-17T15:35:05.356389Z",
     "iopub.status.idle": "2023-01-17T15:35:05.363637Z",
     "shell.execute_reply": "2023-01-17T15:35:05.362548Z"
    },
    "papermill": {
     "duration": 0.032667,
     "end_time": "2023-01-17T15:35:05.366077",
     "exception": false,
     "start_time": "2023-01-17T15:35:05.333410",
     "status": "completed"
    },
    "tags": []
   },
   "outputs": [],
   "source": [
    "CanadaC = data.iloc[125:150,2]\n",
    "CanadaC = np.array(CanadaC)\n",
    "CanadaC = np.flip(CanadaC)\n",
    "\n",
    "CanadaG = data.iloc[1174:1199,2]\n",
    "CanadaG = np.array(CanadaG)\n",
    "CanadaG = np.flip(CanadaG)"
   ]
  },
  {
   "cell_type": "code",
   "execution_count": 9,
   "id": "c05ccc10",
   "metadata": {
    "execution": {
     "iopub.execute_input": "2023-01-17T15:35:05.412231Z",
     "iopub.status.busy": "2023-01-17T15:35:05.411848Z",
     "iopub.status.idle": "2023-01-17T15:35:05.418147Z",
     "shell.execute_reply": "2023-01-17T15:35:05.416992Z"
    },
    "papermill": {
     "duration": 0.032081,
     "end_time": "2023-01-17T15:35:05.420244",
     "exception": false,
     "start_time": "2023-01-17T15:35:05.388163",
     "status": "completed"
    },
    "tags": []
   },
   "outputs": [],
   "source": [
    "CroatiaC = data.iloc[150:175,2]\n",
    "CroatiaC = np.array(CroatiaC)\n",
    "CroatiaC = np.flip(CroatiaC)\n",
    "\n",
    "CroatiaG = data.iloc[1199:1224,2]\n",
    "CroatiaG = np.array(CroatiaG)\n",
    "CroatiaG = np.flip(CroatiaG)"
   ]
  },
  {
   "cell_type": "code",
   "execution_count": 10,
   "id": "dd0e0e82",
   "metadata": {
    "execution": {
     "iopub.execute_input": "2023-01-17T15:35:05.464217Z",
     "iopub.status.busy": "2023-01-17T15:35:05.463500Z",
     "iopub.status.idle": "2023-01-17T15:35:05.470539Z",
     "shell.execute_reply": "2023-01-17T15:35:05.469368Z"
    },
    "papermill": {
     "duration": 0.031667,
     "end_time": "2023-01-17T15:35:05.472821",
     "exception": false,
     "start_time": "2023-01-17T15:35:05.441154",
     "status": "completed"
    },
    "tags": []
   },
   "outputs": [],
   "source": [
    "CyprusC = data.iloc[175:200,2]\n",
    "CyprusC = np.array(CyprusC)\n",
    "CyprusC = np.flip(CyprusC)\n",
    "\n",
    "CyprusG = data.iloc[1224:1249,2]\n",
    "CyprusG = np.array(CyprusG)\n",
    "CyprusG = np.flip(CyprusG)"
   ]
  },
  {
   "cell_type": "code",
   "execution_count": 11,
   "id": "c4fc94f4",
   "metadata": {
    "execution": {
     "iopub.execute_input": "2023-01-17T15:35:05.521824Z",
     "iopub.status.busy": "2023-01-17T15:35:05.521283Z",
     "iopub.status.idle": "2023-01-17T15:35:05.528336Z",
     "shell.execute_reply": "2023-01-17T15:35:05.527474Z"
    },
    "papermill": {
     "duration": 0.0371,
     "end_time": "2023-01-17T15:35:05.530839",
     "exception": false,
     "start_time": "2023-01-17T15:35:05.493739",
     "status": "completed"
    },
    "tags": []
   },
   "outputs": [],
   "source": [
    "Czech_RepublicC = data.iloc[200:225,2]\n",
    "Czech_RepublicC = np.array(Czech_RepublicC)\n",
    "Czech_RepublicC = np.flip(Czech_RepublicC)\n",
    "\n",
    "Czech_RepublicG = data.iloc[1249:1274,2]\n",
    "Czech_RepublicG = np.array(Czech_RepublicG)\n",
    "Czech_RepublicG = np.flip(Czech_RepublicG)"
   ]
  },
  {
   "cell_type": "code",
   "execution_count": 12,
   "id": "a44c77c0",
   "metadata": {
    "execution": {
     "iopub.execute_input": "2023-01-17T15:35:05.587677Z",
     "iopub.status.busy": "2023-01-17T15:35:05.587202Z",
     "iopub.status.idle": "2023-01-17T15:35:05.597010Z",
     "shell.execute_reply": "2023-01-17T15:35:05.595322Z"
    },
    "papermill": {
     "duration": 0.0382,
     "end_time": "2023-01-17T15:35:05.600153",
     "exception": false,
     "start_time": "2023-01-17T15:35:05.561953",
     "status": "completed"
    },
    "tags": []
   },
   "outputs": [],
   "source": [
    "DenmarkC = data.iloc[225:250,2]\n",
    "DenmarkC = np.array(DenmarkC)\n",
    "DenmarkC = np.flip(DenmarkC)\n",
    "\n",
    "DenmarkG = data.iloc[1274:1299,2]\n",
    "DenmarkG = np.array(DenmarkG)\n",
    "DenmarkG = np.flip(DenmarkG)"
   ]
  },
  {
   "cell_type": "code",
   "execution_count": 13,
   "id": "bf6cc55e",
   "metadata": {
    "execution": {
     "iopub.execute_input": "2023-01-17T15:35:05.646549Z",
     "iopub.status.busy": "2023-01-17T15:35:05.646149Z",
     "iopub.status.idle": "2023-01-17T15:35:05.653013Z",
     "shell.execute_reply": "2023-01-17T15:35:05.651993Z"
    },
    "papermill": {
     "duration": 0.032462,
     "end_time": "2023-01-17T15:35:05.655221",
     "exception": false,
     "start_time": "2023-01-17T15:35:05.622759",
     "status": "completed"
    },
    "tags": []
   },
   "outputs": [],
   "source": [
    "EstoniaC = data.iloc[250:275,2]\n",
    "EstoniaC = np.array(EstoniaC)\n",
    "EstoniaC = np.flip(EstoniaC)\n",
    "\n",
    "EstoniaG = data.iloc[1299:1324,2]\n",
    "EstoniaG = np.array(EstoniaG)\n",
    "EstoniaG = np.flip(EstoniaG)"
   ]
  },
  {
   "cell_type": "code",
   "execution_count": 14,
   "id": "40ce3c55",
   "metadata": {
    "execution": {
     "iopub.execute_input": "2023-01-17T15:35:05.701116Z",
     "iopub.status.busy": "2023-01-17T15:35:05.700690Z",
     "iopub.status.idle": "2023-01-17T15:35:05.708585Z",
     "shell.execute_reply": "2023-01-17T15:35:05.707723Z"
    },
    "papermill": {
     "duration": 0.032883,
     "end_time": "2023-01-17T15:35:05.710655",
     "exception": false,
     "start_time": "2023-01-17T15:35:05.677772",
     "status": "completed"
    },
    "tags": []
   },
   "outputs": [],
   "source": [
    "European_UnionC = data.iloc[275:300,2]\n",
    "European_UnionC = np.array(European_UnionC)\n",
    "European_UnionC = np.flip(European_UnionC)\n",
    "\n",
    "European_UnionG = data.iloc[1324:1349,2]\n",
    "European_UnionG = np.array(European_UnionG)\n",
    "European_UnionG = np.flip(European_UnionG)"
   ]
  },
  {
   "cell_type": "code",
   "execution_count": 15,
   "id": "74039df2",
   "metadata": {
    "execution": {
     "iopub.execute_input": "2023-01-17T15:35:05.754972Z",
     "iopub.status.busy": "2023-01-17T15:35:05.754351Z",
     "iopub.status.idle": "2023-01-17T15:35:05.759912Z",
     "shell.execute_reply": "2023-01-17T15:35:05.759155Z"
    },
    "papermill": {
     "duration": 0.030429,
     "end_time": "2023-01-17T15:35:05.762176",
     "exception": false,
     "start_time": "2023-01-17T15:35:05.731747",
     "status": "completed"
    },
    "tags": []
   },
   "outputs": [],
   "source": [
    "FinlandC = data.iloc[300:325,2]\n",
    "FinlandC = np.array(FinlandC)\n",
    "FinlandC = np.flip(FinlandC)\n",
    "\n",
    "FinlandG = data.iloc[1349:1374,2]\n",
    "FinlandG = np.array(FinlandG)\n",
    "FinlandG = np.flip(FinlandG)"
   ]
  },
  {
   "cell_type": "code",
   "execution_count": 16,
   "id": "1214bfda",
   "metadata": {
    "execution": {
     "iopub.execute_input": "2023-01-17T15:35:05.807269Z",
     "iopub.status.busy": "2023-01-17T15:35:05.806749Z",
     "iopub.status.idle": "2023-01-17T15:35:05.813489Z",
     "shell.execute_reply": "2023-01-17T15:35:05.812237Z"
    },
    "papermill": {
     "duration": 0.032396,
     "end_time": "2023-01-17T15:35:05.815977",
     "exception": false,
     "start_time": "2023-01-17T15:35:05.783581",
     "status": "completed"
    },
    "tags": []
   },
   "outputs": [],
   "source": [
    "FranceC = data.iloc[325:350,2]\n",
    "FranceC = np.array(FranceC)\n",
    "FranceC = np.flip(FranceC)\n",
    "\n",
    "FranceG = data.iloc[1374:1399,2]\n",
    "FranceG = np.array(FranceG)\n",
    "FranceG = np.flip(FranceG)"
   ]
  },
  {
   "cell_type": "code",
   "execution_count": 17,
   "id": "657ec54b",
   "metadata": {
    "execution": {
     "iopub.execute_input": "2023-01-17T15:35:05.861524Z",
     "iopub.status.busy": "2023-01-17T15:35:05.860420Z",
     "iopub.status.idle": "2023-01-17T15:35:05.866913Z",
     "shell.execute_reply": "2023-01-17T15:35:05.866168Z"
    },
    "papermill": {
     "duration": 0.031432,
     "end_time": "2023-01-17T15:35:05.869143",
     "exception": false,
     "start_time": "2023-01-17T15:35:05.837711",
     "status": "completed"
    },
    "tags": []
   },
   "outputs": [],
   "source": [
    "GermanyC = data.iloc[350:375,2]\n",
    "GermanyC = np.array(GermanyC)\n",
    "GermanyC = np.flip(GermanyC)\n",
    "\n",
    "GermanyG = data.iloc[1399:1424,2]\n",
    "GermanyG = np.array(GermanyG)\n",
    "GermanyG = np.flip(GermanyG)"
   ]
  },
  {
   "cell_type": "code",
   "execution_count": 18,
   "id": "eaac4c7b",
   "metadata": {
    "execution": {
     "iopub.execute_input": "2023-01-17T15:35:05.913009Z",
     "iopub.status.busy": "2023-01-17T15:35:05.912258Z",
     "iopub.status.idle": "2023-01-17T15:35:05.918303Z",
     "shell.execute_reply": "2023-01-17T15:35:05.917429Z"
    },
    "papermill": {
     "duration": 0.030315,
     "end_time": "2023-01-17T15:35:05.920407",
     "exception": false,
     "start_time": "2023-01-17T15:35:05.890092",
     "status": "completed"
    },
    "tags": []
   },
   "outputs": [],
   "source": [
    "GreeceC = data.iloc[375:400,2]\n",
    "GreeceC = np.array(GreeceC)\n",
    "GreeceC = np.flip(GreeceC)\n",
    "\n",
    "GreeceG = data.iloc[1424:1449,2]\n",
    "GreeceG = np.array(GreeceG)\n",
    "GreeceG = np.flip(GreeceG)"
   ]
  },
  {
   "cell_type": "code",
   "execution_count": 19,
   "id": "00c210a3",
   "metadata": {
    "execution": {
     "iopub.execute_input": "2023-01-17T15:35:05.964753Z",
     "iopub.status.busy": "2023-01-17T15:35:05.964055Z",
     "iopub.status.idle": "2023-01-17T15:35:05.970066Z",
     "shell.execute_reply": "2023-01-17T15:35:05.969248Z"
    },
    "papermill": {
     "duration": 0.030558,
     "end_time": "2023-01-17T15:35:05.972209",
     "exception": false,
     "start_time": "2023-01-17T15:35:05.941651",
     "status": "completed"
    },
    "tags": []
   },
   "outputs": [],
   "source": [
    "HungaryC = data.iloc[400:425,2]\n",
    "HungaryC = np.array(HungaryC)\n",
    "HungaryC = np.flip(HungaryC)\n",
    "\n",
    "HungaryG = data.iloc[1449:1474,2]\n",
    "HungaryG = np.array(HungaryG)\n",
    "HungaryG = np.flip(HungaryG)"
   ]
  },
  {
   "cell_type": "code",
   "execution_count": 20,
   "id": "3fe6b21b",
   "metadata": {
    "execution": {
     "iopub.execute_input": "2023-01-17T15:35:06.016299Z",
     "iopub.status.busy": "2023-01-17T15:35:06.015507Z",
     "iopub.status.idle": "2023-01-17T15:35:06.021727Z",
     "shell.execute_reply": "2023-01-17T15:35:06.020915Z"
    },
    "papermill": {
     "duration": 0.030858,
     "end_time": "2023-01-17T15:35:06.023992",
     "exception": false,
     "start_time": "2023-01-17T15:35:05.993134",
     "status": "completed"
    },
    "tags": []
   },
   "outputs": [],
   "source": [
    "IcelandC = data.iloc[425:450,2]\n",
    "IcelandC = np.array(IcelandC)\n",
    "IcelandC = np.flip(IcelandC)\n",
    "\n",
    "IcelandG = data.iloc[1474:1499,2]\n",
    "IcelandG = np.array(IcelandG)\n",
    "IcelandG = np.flip(IcelandG)"
   ]
  },
  {
   "cell_type": "code",
   "execution_count": 21,
   "id": "bb77689d",
   "metadata": {
    "execution": {
     "iopub.execute_input": "2023-01-17T15:35:06.070449Z",
     "iopub.status.busy": "2023-01-17T15:35:06.069261Z",
     "iopub.status.idle": "2023-01-17T15:35:06.076929Z",
     "shell.execute_reply": "2023-01-17T15:35:06.075788Z"
    },
    "papermill": {
     "duration": 0.033978,
     "end_time": "2023-01-17T15:35:06.079294",
     "exception": false,
     "start_time": "2023-01-17T15:35:06.045316",
     "status": "completed"
    },
    "tags": []
   },
   "outputs": [],
   "source": [
    "IrelandC = data.iloc[450:475,2]\n",
    "IrelandC = np.array(IrelandC)\n",
    "IrelandC = np.flip(IrelandC)\n",
    "\n",
    "IrelandG = data.iloc[1499:1524,2]\n",
    "IrelandG = np.array(IrelandG)\n",
    "IrelandG = np.flip(IrelandG)"
   ]
  },
  {
   "cell_type": "code",
   "execution_count": 22,
   "id": "35f5c4f3",
   "metadata": {
    "execution": {
     "iopub.execute_input": "2023-01-17T15:35:06.123568Z",
     "iopub.status.busy": "2023-01-17T15:35:06.123118Z",
     "iopub.status.idle": "2023-01-17T15:35:06.130785Z",
     "shell.execute_reply": "2023-01-17T15:35:06.129400Z"
    },
    "papermill": {
     "duration": 0.033045,
     "end_time": "2023-01-17T15:35:06.133420",
     "exception": false,
     "start_time": "2023-01-17T15:35:06.100375",
     "status": "completed"
    },
    "tags": []
   },
   "outputs": [],
   "source": [
    "ItalyC = data.iloc[475:500,2]\n",
    "ItalyC = np.array(ItalyC)\n",
    "ItalyC = np.flip(ItalyC)\n",
    "\n",
    "ItalyG = data.iloc[1524:1549,2]\n",
    "ItalyG = np.array(ItalyG)\n",
    "ItalyG = np.flip(ItalyG)"
   ]
  },
  {
   "cell_type": "code",
   "execution_count": 23,
   "id": "0c121025",
   "metadata": {
    "execution": {
     "iopub.execute_input": "2023-01-17T15:35:06.179532Z",
     "iopub.status.busy": "2023-01-17T15:35:06.178816Z",
     "iopub.status.idle": "2023-01-17T15:35:06.185742Z",
     "shell.execute_reply": "2023-01-17T15:35:06.184878Z"
    },
    "papermill": {
     "duration": 0.032614,
     "end_time": "2023-01-17T15:35:06.188290",
     "exception": false,
     "start_time": "2023-01-17T15:35:06.155676",
     "status": "completed"
    },
    "tags": []
   },
   "outputs": [],
   "source": [
    "JapanC = data.iloc[500:525,2]\n",
    "JapanC = np.array(JapanC)\n",
    "JapanC = np.flip(JapanC)\n",
    "\n",
    "JapanG = data.iloc[1549:1574,2]\n",
    "JapanG = np.array(JapanG)\n",
    "JapanG = np.flip(JapanG)"
   ]
  },
  {
   "cell_type": "code",
   "execution_count": 24,
   "id": "5a6e39f2",
   "metadata": {
    "execution": {
     "iopub.execute_input": "2023-01-17T15:35:06.234140Z",
     "iopub.status.busy": "2023-01-17T15:35:06.233451Z",
     "iopub.status.idle": "2023-01-17T15:35:06.239688Z",
     "shell.execute_reply": "2023-01-17T15:35:06.238467Z"
    },
    "papermill": {
     "duration": 0.031638,
     "end_time": "2023-01-17T15:35:06.242301",
     "exception": false,
     "start_time": "2023-01-17T15:35:06.210663",
     "status": "completed"
    },
    "tags": []
   },
   "outputs": [],
   "source": [
    "LatviaC = data.iloc[525:550,2]\n",
    "LatviaC = np.array(LatviaC)\n",
    "LatviaC = np.flip(LatviaC)\n",
    "\n",
    "LatviaG = data.iloc[1574:1599,2]\n",
    "LatviaG = np.array(LatviaG)\n",
    "LatviaG = np.flip(LatviaG)"
   ]
  },
  {
   "cell_type": "code",
   "execution_count": 25,
   "id": "915bb5a9",
   "metadata": {
    "execution": {
     "iopub.execute_input": "2023-01-17T15:35:06.286081Z",
     "iopub.status.busy": "2023-01-17T15:35:06.285654Z",
     "iopub.status.idle": "2023-01-17T15:35:06.291553Z",
     "shell.execute_reply": "2023-01-17T15:35:06.290416Z"
    },
    "papermill": {
     "duration": 0.030832,
     "end_time": "2023-01-17T15:35:06.294140",
     "exception": false,
     "start_time": "2023-01-17T15:35:06.263308",
     "status": "completed"
    },
    "tags": []
   },
   "outputs": [],
   "source": [
    "LiechtensteinC = data.iloc[550:575,2]\n",
    "LiechtensteinC = np.array(LiechtensteinC)\n",
    "LiechtensteinC = np.flip(LiechtensteinC)\n",
    "\n",
    "# Liechtenstein does not have greenhouse gas values in the data set so it cannot be included"
   ]
  },
  {
   "cell_type": "code",
   "execution_count": 26,
   "id": "a2bbbde4",
   "metadata": {
    "execution": {
     "iopub.execute_input": "2023-01-17T15:35:06.338720Z",
     "iopub.status.busy": "2023-01-17T15:35:06.338015Z",
     "iopub.status.idle": "2023-01-17T15:35:06.344733Z",
     "shell.execute_reply": "2023-01-17T15:35:06.343924Z"
    },
    "papermill": {
     "duration": 0.031456,
     "end_time": "2023-01-17T15:35:06.346942",
     "exception": false,
     "start_time": "2023-01-17T15:35:06.315486",
     "status": "completed"
    },
    "tags": []
   },
   "outputs": [],
   "source": [
    "LithuaniaC = data.iloc[575:600,2]\n",
    "LithuaniaC = np.array(LithuaniaC)\n",
    "LithuaniaC = np.flip(LithuaniaC)\n",
    "\n",
    "LithuaniaG = data.iloc[1599:1624,2]\n",
    "LithuaniaG = np.array(LithuaniaG)\n",
    "LithuaniaG = np.flip(LithuaniaG)"
   ]
  },
  {
   "cell_type": "code",
   "execution_count": 27,
   "id": "3a3f8456",
   "metadata": {
    "execution": {
     "iopub.execute_input": "2023-01-17T15:35:06.390528Z",
     "iopub.status.busy": "2023-01-17T15:35:06.390135Z",
     "iopub.status.idle": "2023-01-17T15:35:06.396059Z",
     "shell.execute_reply": "2023-01-17T15:35:06.395001Z"
    },
    "papermill": {
     "duration": 0.030143,
     "end_time": "2023-01-17T15:35:06.398186",
     "exception": false,
     "start_time": "2023-01-17T15:35:06.368043",
     "status": "completed"
    },
    "tags": []
   },
   "outputs": [],
   "source": [
    "LuxembourgC = data.iloc[600:625,2]\n",
    "LuxembourgC = np.array(LuxembourgC)\n",
    "LuxembourgC = np.flip(LuxembourgC)\n",
    "\n",
    "# Luxembourg does not have greenhouse gas values in the data set so it cannot be included"
   ]
  },
  {
   "cell_type": "code",
   "execution_count": 28,
   "id": "b431bfd1",
   "metadata": {
    "execution": {
     "iopub.execute_input": "2023-01-17T15:35:06.442477Z",
     "iopub.status.busy": "2023-01-17T15:35:06.441400Z",
     "iopub.status.idle": "2023-01-17T15:35:06.448473Z",
     "shell.execute_reply": "2023-01-17T15:35:06.447451Z"
    },
    "papermill": {
     "duration": 0.031692,
     "end_time": "2023-01-17T15:35:06.450922",
     "exception": false,
     "start_time": "2023-01-17T15:35:06.419230",
     "status": "completed"
    },
    "tags": []
   },
   "outputs": [],
   "source": [
    "MaltaC = data.iloc[625:650,2]\n",
    "MaltaC = np.array(MaltaC)\n",
    "MaltaC = np.flip(MaltaC)\n",
    "\n",
    "MaltaG = data.iloc[1624:1649,2]\n",
    "MaltaG = np.array(MaltaG)\n",
    "MaltaG = np.flip(MaltaG)"
   ]
  },
  {
   "cell_type": "code",
   "execution_count": 29,
   "id": "4973d84a",
   "metadata": {
    "execution": {
     "iopub.execute_input": "2023-01-17T15:35:06.494873Z",
     "iopub.status.busy": "2023-01-17T15:35:06.494477Z",
     "iopub.status.idle": "2023-01-17T15:35:06.501534Z",
     "shell.execute_reply": "2023-01-17T15:35:06.500496Z"
    },
    "papermill": {
     "duration": 0.031772,
     "end_time": "2023-01-17T15:35:06.503879",
     "exception": false,
     "start_time": "2023-01-17T15:35:06.472107",
     "status": "completed"
    },
    "tags": []
   },
   "outputs": [],
   "source": [
    "NetherlandsC = data.iloc[674:699,2]\n",
    "NetherlandsC = np.array(NetherlandsC)\n",
    "NetherlandsC = np.flip(NetherlandsC)\n",
    "\n",
    "NetherlandsG = data.iloc[1673:1698,2]\n",
    "NetherlandsG = np.array(NetherlandsG)\n",
    "NetherlandsG = np.flip(NetherlandsG)"
   ]
  },
  {
   "cell_type": "code",
   "execution_count": 30,
   "id": "3320ab54",
   "metadata": {
    "execution": {
     "iopub.execute_input": "2023-01-17T15:35:06.547549Z",
     "iopub.status.busy": "2023-01-17T15:35:06.547162Z",
     "iopub.status.idle": "2023-01-17T15:35:06.553097Z",
     "shell.execute_reply": "2023-01-17T15:35:06.552343Z"
    },
    "papermill": {
     "duration": 0.030164,
     "end_time": "2023-01-17T15:35:06.554953",
     "exception": false,
     "start_time": "2023-01-17T15:35:06.524789",
     "status": "completed"
    },
    "tags": []
   },
   "outputs": [],
   "source": [
    "New_ZealandC = data.iloc[699:724,2]\n",
    "New_ZealandC = np.array(New_ZealandC)\n",
    "New_ZealandC = np.flip(New_ZealandC)\n",
    "\n",
    "New_ZealandG = data.iloc[1698:1723,2]\n",
    "New_ZealandG = np.array(New_ZealandG)\n",
    "New_ZealandG = np.flip(New_ZealandG)"
   ]
  },
  {
   "cell_type": "code",
   "execution_count": 31,
   "id": "35eed34b",
   "metadata": {
    "execution": {
     "iopub.execute_input": "2023-01-17T15:35:06.598523Z",
     "iopub.status.busy": "2023-01-17T15:35:06.598070Z",
     "iopub.status.idle": "2023-01-17T15:35:06.604954Z",
     "shell.execute_reply": "2023-01-17T15:35:06.603885Z"
    },
    "papermill": {
     "duration": 0.031157,
     "end_time": "2023-01-17T15:35:06.607066",
     "exception": false,
     "start_time": "2023-01-17T15:35:06.575909",
     "status": "completed"
    },
    "tags": []
   },
   "outputs": [],
   "source": [
    "NorwayC = data.iloc[724:749,2]\n",
    "NorwayC = np.array(NorwayC)\n",
    "NorwayC = np.flip(NorwayC)\n",
    "\n",
    "NorwayG = data.iloc[1723:1748,2]\n",
    "NorwayG = np.array(NorwayG)\n",
    "NorwayG = np.flip(NorwayG)"
   ]
  },
  {
   "cell_type": "code",
   "execution_count": 32,
   "id": "a68b8cc4",
   "metadata": {
    "execution": {
     "iopub.execute_input": "2023-01-17T15:35:06.650768Z",
     "iopub.status.busy": "2023-01-17T15:35:06.649566Z",
     "iopub.status.idle": "2023-01-17T15:35:06.656383Z",
     "shell.execute_reply": "2023-01-17T15:35:06.655272Z"
    },
    "papermill": {
     "duration": 0.030782,
     "end_time": "2023-01-17T15:35:06.658651",
     "exception": false,
     "start_time": "2023-01-17T15:35:06.627869",
     "status": "completed"
    },
    "tags": []
   },
   "outputs": [],
   "source": [
    "PolandC = data.iloc[749:774,2]\n",
    "PolandC = np.array(PolandC)\n",
    "PolandC = np.flip(PolandC)\n",
    "\n",
    "PolandG = data.iloc[1748:1773,2]\n",
    "PolandG = np.array(PolandG)\n",
    "PolandG = np.flip(PolandG)"
   ]
  },
  {
   "cell_type": "code",
   "execution_count": 33,
   "id": "659ceb1e",
   "metadata": {
    "execution": {
     "iopub.execute_input": "2023-01-17T15:35:06.703338Z",
     "iopub.status.busy": "2023-01-17T15:35:06.702078Z",
     "iopub.status.idle": "2023-01-17T15:35:06.708598Z",
     "shell.execute_reply": "2023-01-17T15:35:06.707778Z"
    },
    "papermill": {
     "duration": 0.030886,
     "end_time": "2023-01-17T15:35:06.710671",
     "exception": false,
     "start_time": "2023-01-17T15:35:06.679785",
     "status": "completed"
    },
    "tags": []
   },
   "outputs": [],
   "source": [
    "PortugalC = data.iloc[774:799,2]\n",
    "PortugalC = np.array(PortugalC)\n",
    "PortugalC = np.flip(PortugalC)\n",
    "\n",
    "PortugalG = data.iloc[1773:1798,2]\n",
    "PortugalG = np.array(PortugalG)\n",
    "PortugalG = np.flip(PortugalG)"
   ]
  },
  {
   "cell_type": "code",
   "execution_count": 34,
   "id": "3a9702f3",
   "metadata": {
    "execution": {
     "iopub.execute_input": "2023-01-17T15:35:06.754529Z",
     "iopub.status.busy": "2023-01-17T15:35:06.753398Z",
     "iopub.status.idle": "2023-01-17T15:35:06.759691Z",
     "shell.execute_reply": "2023-01-17T15:35:06.758878Z"
    },
    "papermill": {
     "duration": 0.030254,
     "end_time": "2023-01-17T15:35:06.761763",
     "exception": false,
     "start_time": "2023-01-17T15:35:06.731509",
     "status": "completed"
    },
    "tags": []
   },
   "outputs": [],
   "source": [
    "RomaniaC = data.iloc[799:824,2]\n",
    "RomaniaC = np.array(RomaniaC)\n",
    "RomaniaC = np.flip(RomaniaC)\n",
    "\n",
    "RomaniaG = data.iloc[1798:1823,2]\n",
    "RomaniaG = np.array(RomaniaG)\n",
    "RomaniaG = np.flip(RomaniaG)"
   ]
  },
  {
   "cell_type": "code",
   "execution_count": 35,
   "id": "536b27d3",
   "metadata": {
    "execution": {
     "iopub.execute_input": "2023-01-17T15:35:06.805315Z",
     "iopub.status.busy": "2023-01-17T15:35:06.804247Z",
     "iopub.status.idle": "2023-01-17T15:35:06.811239Z",
     "shell.execute_reply": "2023-01-17T15:35:06.810163Z"
    },
    "papermill": {
     "duration": 0.031122,
     "end_time": "2023-01-17T15:35:06.813703",
     "exception": false,
     "start_time": "2023-01-17T15:35:06.782581",
     "status": "completed"
    },
    "tags": []
   },
   "outputs": [],
   "source": [
    "Russian_FederationC = data.iloc[824:849,2]\n",
    "Russian_FederationC = np.array(Russian_FederationC)\n",
    "Russian_FederationC = np.flip(Russian_FederationC)\n",
    "\n",
    "Russian_FederationG = data.iloc[1823:1848,2]\n",
    "Russian_FederationG = np.array(Russian_FederationG)\n",
    "Russian_FederationG = np.flip(Russian_FederationG)"
   ]
  },
  {
   "cell_type": "code",
   "execution_count": 36,
   "id": "2efe4283",
   "metadata": {
    "execution": {
     "iopub.execute_input": "2023-01-17T15:35:06.857073Z",
     "iopub.status.busy": "2023-01-17T15:35:06.856661Z",
     "iopub.status.idle": "2023-01-17T15:35:06.863306Z",
     "shell.execute_reply": "2023-01-17T15:35:06.862141Z"
    },
    "papermill": {
     "duration": 0.031237,
     "end_time": "2023-01-17T15:35:06.865858",
     "exception": false,
     "start_time": "2023-01-17T15:35:06.834621",
     "status": "completed"
    },
    "tags": []
   },
   "outputs": [],
   "source": [
    "SlovakiaC = data.iloc[849:874,2]\n",
    "SlovakiaC = np.array(SlovakiaC)\n",
    "SlovakiaC = np.flip(SlovakiaC)\n",
    "\n",
    "SlovakiaG = data.iloc[1848:1873,2]\n",
    "SlovakiaG = np.array(SlovakiaG)\n",
    "SlovakiaG = np.flip(SlovakiaG)"
   ]
  },
  {
   "cell_type": "code",
   "execution_count": 37,
   "id": "477ca042",
   "metadata": {
    "execution": {
     "iopub.execute_input": "2023-01-17T15:35:06.910036Z",
     "iopub.status.busy": "2023-01-17T15:35:06.909262Z",
     "iopub.status.idle": "2023-01-17T15:35:06.915800Z",
     "shell.execute_reply": "2023-01-17T15:35:06.915040Z"
    },
    "papermill": {
     "duration": 0.03128,
     "end_time": "2023-01-17T15:35:06.918144",
     "exception": false,
     "start_time": "2023-01-17T15:35:06.886864",
     "status": "completed"
    },
    "tags": []
   },
   "outputs": [],
   "source": [
    "SloveniaC = data.iloc[874:899,2]\n",
    "SloveniaC = np.array(SloveniaC)\n",
    "SloveniaC = np.flip(SloveniaC)\n",
    "\n",
    "SloveniaG = data.iloc[1873:1898,2]\n",
    "SloveniaG = np.array(SloveniaG)\n",
    "SloveniaG = np.flip(SloveniaG)"
   ]
  },
  {
   "cell_type": "code",
   "execution_count": 38,
   "id": "66356aea",
   "metadata": {
    "execution": {
     "iopub.execute_input": "2023-01-17T15:35:06.961470Z",
     "iopub.status.busy": "2023-01-17T15:35:06.960693Z",
     "iopub.status.idle": "2023-01-17T15:35:06.966498Z",
     "shell.execute_reply": "2023-01-17T15:35:06.965721Z"
    },
    "papermill": {
     "duration": 0.03003,
     "end_time": "2023-01-17T15:35:06.968675",
     "exception": false,
     "start_time": "2023-01-17T15:35:06.938645",
     "status": "completed"
    },
    "tags": []
   },
   "outputs": [],
   "source": [
    "SpainC = data.iloc[899:924,2]\n",
    "SpainC = np.array(SpainC)\n",
    "SpainC = np.flip(SpainC)\n",
    "\n",
    "# Spain does not have greenhouse gas values in the data set so it cannot be included"
   ]
  },
  {
   "cell_type": "code",
   "execution_count": 39,
   "id": "a7c957c1",
   "metadata": {
    "execution": {
     "iopub.execute_input": "2023-01-17T15:35:07.012182Z",
     "iopub.status.busy": "2023-01-17T15:35:07.011446Z",
     "iopub.status.idle": "2023-01-17T15:35:07.017906Z",
     "shell.execute_reply": "2023-01-17T15:35:07.017124Z"
    },
    "papermill": {
     "duration": 0.031016,
     "end_time": "2023-01-17T15:35:07.020226",
     "exception": false,
     "start_time": "2023-01-17T15:35:06.989210",
     "status": "completed"
    },
    "tags": []
   },
   "outputs": [],
   "source": [
    "SwedenC = data.iloc[924:949,2]\n",
    "SwedenC = np.array(SwedenC)\n",
    "SwedenC = np.flip(SwedenC)\n",
    "\n",
    "SwedenG = data.iloc[1898:1923,2]\n",
    "SwedenG = np.array(SwedenG)\n",
    "SwedenG = np.flip(SwedenG)"
   ]
  },
  {
   "cell_type": "code",
   "execution_count": 40,
   "id": "018b8f4e",
   "metadata": {
    "execution": {
     "iopub.execute_input": "2023-01-17T15:35:07.067580Z",
     "iopub.status.busy": "2023-01-17T15:35:07.065996Z",
     "iopub.status.idle": "2023-01-17T15:35:07.075137Z",
     "shell.execute_reply": "2023-01-17T15:35:07.074170Z"
    },
    "papermill": {
     "duration": 0.037218,
     "end_time": "2023-01-17T15:35:07.078249",
     "exception": false,
     "start_time": "2023-01-17T15:35:07.041031",
     "status": "completed"
    },
    "tags": []
   },
   "outputs": [],
   "source": [
    "SwitzerlandC = data.iloc[949:974,2]\n",
    "SwitzerlandC = np.array(SwitzerlandC)\n",
    "SwitzerlandC = np.flip(SwitzerlandC)\n",
    "\n",
    "SwitzerlandG = data.iloc[1923:1948,2]\n",
    "SwitzerlandG = np.array(SwitzerlandG)\n",
    "SwitzerlandG = np.flip(SwitzerlandG)"
   ]
  },
  {
   "cell_type": "code",
   "execution_count": 41,
   "id": "e6afa714",
   "metadata": {
    "execution": {
     "iopub.execute_input": "2023-01-17T15:35:07.134943Z",
     "iopub.status.busy": "2023-01-17T15:35:07.133791Z",
     "iopub.status.idle": "2023-01-17T15:35:07.141021Z",
     "shell.execute_reply": "2023-01-17T15:35:07.140180Z"
    },
    "papermill": {
     "duration": 0.040671,
     "end_time": "2023-01-17T15:35:07.143373",
     "exception": false,
     "start_time": "2023-01-17T15:35:07.102702",
     "status": "completed"
    },
    "tags": []
   },
   "outputs": [],
   "source": [
    "TurkeyC = data.iloc[974:999,2]\n",
    "TurkeyC = np.array(TurkeyC)\n",
    "TurkeyC = np.flip(TurkeyC)\n",
    "\n",
    "TurkeyG = data.iloc[1948:1973,2]\n",
    "TurkeyG = np.array(TurkeyG)\n",
    "TurkeyG = np.flip(TurkeyG)"
   ]
  },
  {
   "cell_type": "code",
   "execution_count": 42,
   "id": "cb811e94",
   "metadata": {
    "execution": {
     "iopub.execute_input": "2023-01-17T15:35:07.194340Z",
     "iopub.status.busy": "2023-01-17T15:35:07.193491Z",
     "iopub.status.idle": "2023-01-17T15:35:07.200672Z",
     "shell.execute_reply": "2023-01-17T15:35:07.199768Z"
    },
    "papermill": {
     "duration": 0.032964,
     "end_time": "2023-01-17T15:35:07.202745",
     "exception": false,
     "start_time": "2023-01-17T15:35:07.169781",
     "status": "completed"
    },
    "tags": []
   },
   "outputs": [],
   "source": [
    "UkraineC = data.iloc[999:1024,2]\n",
    "UkraineC = np.array(UkraineC)\n",
    "UkraineC = np.flip(UkraineC)\n",
    "\n",
    "UkraineG = data.iloc[1973:1998,2]\n",
    "UkraineG = np.array(UkraineG)\n",
    "UkraineG = np.flip(UkraineG)"
   ]
  },
  {
   "cell_type": "code",
   "execution_count": 43,
   "id": "427aeaec",
   "metadata": {
    "execution": {
     "iopub.execute_input": "2023-01-17T15:35:07.246329Z",
     "iopub.status.busy": "2023-01-17T15:35:07.245907Z",
     "iopub.status.idle": "2023-01-17T15:35:07.251563Z",
     "shell.execute_reply": "2023-01-17T15:35:07.250642Z"
    },
    "papermill": {
     "duration": 0.029523,
     "end_time": "2023-01-17T15:35:07.253561",
     "exception": false,
     "start_time": "2023-01-17T15:35:07.224038",
     "status": "completed"
    },
    "tags": []
   },
   "outputs": [],
   "source": [
    "United_KingdomC = data.iloc[1024:1049,2]\n",
    "United_KingdomC = np.array(United_KingdomC)\n",
    "United_KingdomC = np.flip(United_KingdomC)\n",
    "\n",
    "# United Kingdom does not have greenhouse gas values in the data set so it cannot be included"
   ]
  },
  {
   "cell_type": "code",
   "execution_count": 44,
   "id": "757c583c",
   "metadata": {
    "execution": {
     "iopub.execute_input": "2023-01-17T15:35:07.296695Z",
     "iopub.status.busy": "2023-01-17T15:35:07.296029Z",
     "iopub.status.idle": "2023-01-17T15:35:07.301939Z",
     "shell.execute_reply": "2023-01-17T15:35:07.301144Z"
    },
    "papermill": {
     "duration": 0.030056,
     "end_time": "2023-01-17T15:35:07.304174",
     "exception": false,
     "start_time": "2023-01-17T15:35:07.274118",
     "status": "completed"
    },
    "tags": []
   },
   "outputs": [],
   "source": [
    "United_StatesC = data.iloc[1049:1074,2]\n",
    "United_StatesC = np.array(United_StatesC)\n",
    "United_StatesC = np.flip(United_StatesC)\n",
    "\n",
    "United_StatesG = data.iloc[1998:2023,2]\n",
    "United_StatesG = np.array(United_StatesG)\n",
    "United_StatesG = np.flip(United_StatesG)"
   ]
  },
  {
   "cell_type": "code",
   "execution_count": 45,
   "id": "a5c53dca",
   "metadata": {
    "execution": {
     "iopub.execute_input": "2023-01-17T15:35:07.347633Z",
     "iopub.status.busy": "2023-01-17T15:35:07.346940Z",
     "iopub.status.idle": "2023-01-17T15:35:07.598108Z",
     "shell.execute_reply": "2023-01-17T15:35:07.596922Z"
    },
    "papermill": {
     "duration": 0.275944,
     "end_time": "2023-01-17T15:35:07.600789",
     "exception": false,
     "start_time": "2023-01-17T15:35:07.324845",
     "status": "completed"
    },
    "tags": []
   },
   "outputs": [
    {
     "data": {
      "image/png": "[encoded data removed]",
      "text/plain": [
       "<Figure size 640x480 with 1 Axes>"
      ]
     },
     "metadata": {
      "needs_background": "light"
     },
     "output_type": "display_data"
    }
   ],
   "source": [
    "x = np.linspace(1990, 2014, num = 25) \n",
    "plt.figure(figsize=(8, 6), dpi=80)\n",
    "plt.scatter(x, United_StatesC, marker = 'o', color = 'blue', label = 'CO2 Emissions')\n",
    "plt.scatter(x, United_StatesG, marker = '^', color = 'green', label = 'GHG Emissions')\n",
    "plt.title('Annual CO2 Emissions vs Annual GHG Emissions in USA')\n",
    "plt.xlabel('Year')\n",
    "plt.ylabel('Emissions (kilotons)')\n",
    "plt.legend()\n",
    "plt.show()"
   ]
  },
  {
   "cell_type": "markdown",
   "id": "efb05a07",
   "metadata": {
    "papermill": {
     "duration": 0.021744,
     "end_time": "2023-01-17T15:35:07.644440",
     "exception": false,
     "start_time": "2023-01-17T15:35:07.622696",
     "status": "completed"
    },
    "tags": []
   },
   "source": [
    "# FORMING X , X' AND Y  , Y' MATIRCES"
   ]
  },
  {
   "cell_type": "code",
   "execution_count": 46,
   "id": "fd8f00c2",
   "metadata": {
    "execution": {
     "iopub.execute_input": "2023-01-17T15:35:07.688455Z",
     "iopub.status.busy": "2023-01-17T15:35:07.688041Z",
     "iopub.status.idle": "2023-01-17T15:35:07.698335Z",
     "shell.execute_reply": "2023-01-17T15:35:07.697237Z"
    },
    "papermill": {
     "duration": 0.035067,
     "end_time": "2023-01-17T15:35:07.700734",
     "exception": false,
     "start_time": "2023-01-17T15:35:07.665667",
     "status": "completed"
    },
    "tags": []
   },
   "outputs": [],
   "source": [
    "X = np.array([AustraliaC[0:24],AustriaC[0:24],BelarusC[0:24],BelgiumC[0:24],CanadaC[0:24],CroatiaC[0:24],\n",
    "              CyprusC[0:24],Czech_RepublicC[0:24],DenmarkC[0:24],EstoniaC[0:24],European_UnionC[0:24],\n",
    "              FinlandC[0:24],FranceC[0:24],GermanyC[0:24],GreeceC[0:24],HungaryC[0:24],IcelandC[0:24],\n",
    "              IrelandC[0:24],ItalyC[0:24],JapanC[0:24],LatviaC[0:24],LithuaniaC[0:24],MaltaC[0:24],\n",
    "              NetherlandsC[0:24],New_ZealandC[0:24],NorwayC[0:24],PolandC[0:24],PortugalC[0:24],\n",
    "              RomaniaC[0:24],Russian_FederationC[0:24],SlovakiaC[0:24],SloveniaC[0:24],SwedenC[0:24],\n",
    "              SwitzerlandC[0:24],TurkeyC[0:24],UkraineC[0:24],United_StatesC[0:24]])\n",
    "\n",
    "# X is a matrix of carbon dioxide values for each country or area in the dataset\n",
    "# Each row is for a country or area\n",
    "# Each column is for a year from 1990 to 2013"
   ]
  },
  {
   "cell_type": "code",
   "execution_count": 47,
   "id": "f5400a3e",
   "metadata": {
    "execution": {
     "iopub.execute_input": "2023-01-17T15:35:07.746123Z",
     "iopub.status.busy": "2023-01-17T15:35:07.745381Z",
     "iopub.status.idle": "2023-01-17T15:35:07.755349Z",
     "shell.execute_reply": "2023-01-17T15:35:07.754223Z"
    },
    "papermill": {
     "duration": 0.03571,
     "end_time": "2023-01-17T15:35:07.758202",
     "exception": false,
     "start_time": "2023-01-17T15:35:07.722492",
     "status": "completed"
    },
    "tags": []
   },
   "outputs": [],
   "source": [
    "Xbar = np.array([AustraliaC[1:25],AustriaC[1:25],BelarusC[1:25],BelgiumC[1:25],CanadaC[1:25],CroatiaC[1:25],\n",
    "                 CyprusC[1:25],Czech_RepublicC[1:25],DenmarkC[1:25],EstoniaC[1:25],European_UnionC[1:25],\n",
    "                 FinlandC[1:25],FranceC[1:25],GermanyC[1:25],GreeceC[1:25],HungaryC[1:25],IcelandC[1:25],\n",
    "                 IrelandC[1:25],ItalyC[1:25],JapanC[1:25],LatviaC[1:25],LithuaniaC[1:25],MaltaC[1:25],\n",
    "                 NetherlandsC[1:25],New_ZealandC[1:25],NorwayC[1:25],PolandC[1:25],PortugalC[1:25],\n",
    "                 RomaniaC[1:25],Russian_FederationC[1:25],SlovakiaC[1:25],SloveniaC[1:25],SwedenC[1:25],\n",
    "                 SwitzerlandC[1:25],TurkeyC[1:25],UkraineC[1:25],United_StatesC[1:25]])\n",
    "\n",
    "# Xbar is a matrix of carbon dioxide values for each country or area in the dataset\n",
    "# Each row is for a country or area\n",
    "# Each column is for a year from 1991 to 2014\n",
    "\n"
   ]
  },
  {
   "cell_type": "code",
   "execution_count": 48,
   "id": "5903c636",
   "metadata": {
    "execution": {
     "iopub.execute_input": "2023-01-17T15:35:07.803504Z",
     "iopub.status.busy": "2023-01-17T15:35:07.802306Z",
     "iopub.status.idle": "2023-01-17T15:35:07.812466Z",
     "shell.execute_reply": "2023-01-17T15:35:07.811502Z"
    },
    "papermill": {
     "duration": 0.035205,
     "end_time": "2023-01-17T15:35:07.814849",
     "exception": false,
     "start_time": "2023-01-17T15:35:07.779644",
     "status": "completed"
    },
    "tags": []
   },
   "outputs": [],
   "source": [
    "Y = np.array([AustraliaG[0:24],AustriaG[0:24],BelarusG[0:24],BelgiumG[0:24],CanadaG[0:24],CroatiaG[0:24],\n",
    "              CyprusG[0:24],Czech_RepublicG[0:24],DenmarkG[0:24],EstoniaG[0:24],European_UnionG[0:24],\n",
    "              FinlandG[0:24],FranceG[0:24],GermanyG[0:24],GreeceG[0:24],HungaryG[0:24],IcelandG[0:24],\n",
    "              IrelandG[0:24],ItalyG[0:24],JapanG[0:24],LatviaG[0:24],LithuaniaG[0:24],MaltaG[0:24],\n",
    "              NetherlandsG[0:24],New_ZealandG[0:24],NorwayG[0:24],PolandG[0:24],PortugalG[0:24],\n",
    "              RomaniaG[0:24],Russian_FederationG[0:24],SlovakiaG[0:24],SloveniaG[0:24],SwedenG[0:24],\n",
    "              SwitzerlandG[0:24],TurkeyG[0:24],UkraineG[0:24],United_StatesG[0:24]])\n",
    "\n",
    "# Y is a matrix of greenhouse gas values for each country or area in the dataset\n",
    "# Each row is for a country or area\n",
    "# Each column is for a year from 1990 to 2013\n",
    "\n"
   ]
  },
  {
   "cell_type": "code",
   "execution_count": 49,
   "id": "bb02e326",
   "metadata": {
    "execution": {
     "iopub.execute_input": "2023-01-17T15:35:07.862152Z",
     "iopub.status.busy": "2023-01-17T15:35:07.861324Z",
     "iopub.status.idle": "2023-01-17T15:35:07.871319Z",
     "shell.execute_reply": "2023-01-17T15:35:07.870441Z"
    },
    "papermill": {
     "duration": 0.036743,
     "end_time": "2023-01-17T15:35:07.873885",
     "exception": false,
     "start_time": "2023-01-17T15:35:07.837142",
     "status": "completed"
    },
    "tags": []
   },
   "outputs": [],
   "source": [
    "Ybar = np.array([AustraliaG[1:25],AustriaG[1:25],BelarusG[1:25],BelgiumG[1:25],CanadaG[1:25],CroatiaG[1:25],\n",
    "                 CyprusG[1:25],Czech_RepublicG[1:25],DenmarkG[1:25],EstoniaG[1:25],European_UnionG[1:25],\n",
    "                 FinlandG[1:25],FranceG[1:25],GermanyG[1:25],GreeceG[1:25],HungaryG[1:25],IcelandG[1:25],\n",
    "                 IrelandG[1:25],ItalyG[1:25],JapanG[1:25],LatviaG[1:25],LithuaniaG[1:25],MaltaG[1:25],\n",
    "                 NetherlandsG[1:25],New_ZealandG[1:25],NorwayG[1:25],PolandG[1:25],PortugalG[1:25],\n",
    "                 RomaniaG[1:25],Russian_FederationG[1:25],SlovakiaG[1:25],SloveniaG[1:25],SwedenG[1:25],\n",
    "                 SwitzerlandG[1:25],TurkeyG[1:25],UkraineG[1:25],United_StatesG[1:25]])\n",
    "\n",
    "# Ybar is a matrix of greenhouse gas values for each country or area in the dataset\n",
    "# Each row is for a country or area\n",
    "# Each column is for a year from 1991 to 2014\n",
    "\n"
   ]
  },
  {
   "cell_type": "markdown",
   "id": "c4063b36",
   "metadata": {
    "papermill": {
     "duration": 0.020828,
     "end_time": "2023-01-17T15:35:07.915998",
     "exception": false,
     "start_time": "2023-01-17T15:35:07.895170",
     "status": "completed"
    },
    "tags": []
   },
   "source": [
    "# DMD for the data set of carbon dioxide values"
   ]
  },
  {
   "cell_type": "code",
   "execution_count": 50,
   "id": "47a93ad5",
   "metadata": {
    "execution": {
     "iopub.execute_input": "2023-01-17T15:35:07.960804Z",
     "iopub.status.busy": "2023-01-17T15:35:07.960024Z",
     "iopub.status.idle": "2023-01-17T15:35:08.184147Z",
     "shell.execute_reply": "2023-01-17T15:35:08.183030Z"
    },
    "papermill": {
     "duration": 0.249876,
     "end_time": "2023-01-17T15:35:08.186905",
     "exception": false,
     "start_time": "2023-01-17T15:35:07.937029",
     "status": "completed"
    },
    "tags": []
   },
   "outputs": [],
   "source": [
    "# Note: C is added to the end of the variable names to distinguish them from the variable names when\n",
    "# DMD is utilized for the greenhouse gas values\n",
    "# The comments will refer to each variable name without the C at the end of each name\n",
    "\n",
    "from scipy.linalg import diagsvd\n",
    "\n",
    "UC, sigma_arrayC, V_tC = np.linalg.svd(X)\n",
    "# np.linalg.svd() calculates the corresponding values of U, the array of sigma values, and V transpose for X\n",
    "\n",
    "VC = V_tC.T # V is the transpose of V transpose\n",
    "\n",
    "SigmaC = diagsvd(sigma_arrayC, 37, 24) \n",
    "# Creates Sigma as a 37x24 rectangular diagonal matrix whose diagonal entries are the entries of the sigma array\n",
    "# Sigma is known to be 37x24 because it has the same dimensions as X, which is a 37x24 matrix"
   ]
  },
  {
   "cell_type": "code",
   "execution_count": 51,
   "id": "0b4c9758",
   "metadata": {
    "execution": {
     "iopub.execute_input": "2023-01-17T15:35:08.231622Z",
     "iopub.status.busy": "2023-01-17T15:35:08.231222Z",
     "iopub.status.idle": "2023-01-17T15:35:08.236710Z",
     "shell.execute_reply": "2023-01-17T15:35:08.235481Z"
    },
    "papermill": {
     "duration": 0.031476,
     "end_time": "2023-01-17T15:35:08.239607",
     "exception": false,
     "start_time": "2023-01-17T15:35:08.208131",
     "status": "completed"
    },
    "tags": []
   },
   "outputs": [
    {
     "name": "stdout",
     "output_type": "stream",
     "text": [
      "24\n"
     ]
    }
   ],
   "source": [
    "rC = np.linalg.matrix_rank(X) # r is the rank of X\n",
    "print(rC)"
   ]
  },
  {
   "cell_type": "code",
   "execution_count": 52,
   "id": "bf786cda",
   "metadata": {
    "execution": {
     "iopub.execute_input": "2023-01-17T15:35:08.284098Z",
     "iopub.status.busy": "2023-01-17T15:35:08.283542Z",
     "iopub.status.idle": "2023-01-17T15:35:08.289651Z",
     "shell.execute_reply": "2023-01-17T15:35:08.288709Z"
    },
    "papermill": {
     "duration": 0.030804,
     "end_time": "2023-01-17T15:35:08.291832",
     "exception": false,
     "start_time": "2023-01-17T15:35:08.261028",
     "status": "completed"
    },
    "tags": []
   },
   "outputs": [],
   "source": [
    "UrC = UC[:,0:24] # Ur is a matrix containing the first r columns of U\n",
    "SigmarC = SigmaC[0:24,0:24] # Sigmar is a matrix containing the first r rows and the first r columns of Sigma\n",
    "VrC = VC[:,0:24] # Vr is a matrix containing the first r columns of V\n",
    "Vr_starC = VrC.conj().T # Vr_star is the conjugate transpose of Vr\n",
    "Xr = np.dot(np.dot(UrC,SigmarC),Vr_starC)\n",
    "# Xr = (Ur)(Sigmar)(Vr_star)"
   ]
  },
  {
   "cell_type": "code",
   "execution_count": 53,
   "id": "2129315e",
   "metadata": {
    "execution": {
     "iopub.execute_input": "2023-01-17T15:35:08.337329Z",
     "iopub.status.busy": "2023-01-17T15:35:08.336257Z",
     "iopub.status.idle": "2023-01-17T15:35:08.345924Z",
     "shell.execute_reply": "2023-01-17T15:35:08.345155Z"
    },
    "papermill": {
     "duration": 0.034922,
     "end_time": "2023-01-17T15:35:08.348260",
     "exception": false,
     "start_time": "2023-01-17T15:35:08.313338",
     "status": "completed"
    },
    "tags": []
   },
   "outputs": [],
   "source": [
    "Xplus = np.linalg.pinv(X) # Calculates Xplus, which is the pseudo-inverse of X\n",
    "Ur_starC = UrC.conj().T # Ur_star is the conjugate transpose of Ur\n",
    "\n",
    "ArC = np.dot(np.dot(np.dot(Ur_starC,Xbar),Xplus),UrC)\n",
    "# Ar = (Ur_star)(Xbar)(Xplus)(Ur)\n",
    "\n",
    "# Ar can also be found using the following: ArC = np.dot(np.dot(np.dot(Ur_star,Xbar),VrC),np.linalg.inv(SigmarC))\n",
    "# In the above line, Ar = (Ur_star)(Xbar)(Vr)(Sigmar's inverse)\n",
    "\n",
    "eigenvalue_arrayC, WC = np.linalg.eig(ArC)\n",
    "# Determines the eigenvalues of Ar and places them as entries in the eigenvalue array\n",
    "# Also determines the eigenvectors of Ar and places each eigenvector in the array W as a column"
   ]
  },
  {
   "cell_type": "code",
   "execution_count": 54,
   "id": "a0cadcb4",
   "metadata": {
    "execution": {
     "iopub.execute_input": "2023-01-17T15:35:08.393193Z",
     "iopub.status.busy": "2023-01-17T15:35:08.392497Z",
     "iopub.status.idle": "2023-01-17T15:35:08.415302Z",
     "shell.execute_reply": "2023-01-17T15:35:08.414113Z"
    },
    "papermill": {
     "duration": 0.049337,
     "end_time": "2023-01-17T15:35:08.419006",
     "exception": false,
     "start_time": "2023-01-17T15:35:08.369669",
     "status": "completed"
    },
    "tags": []
   },
   "outputs": [
    {
     "data": {
      "text/plain": [
       "(24,)"
      ]
     },
     "execution_count": 54,
     "metadata": {},
     "output_type": "execute_result"
    }
   ],
   "source": [
    "PhiC = np.dot(np.dot(np.dot(Xbar,VrC),np.linalg.inv(SigmarC)),WC)\n",
    "# Phi = (Xbar)(Vr)(Sigmar's inverse)(W)\n",
    "\n",
    "BC = np.dot(np.linalg.pinv(PhiC),X[:,0])\n",
    "# B = (Phi's pseudo-inverse)(X's first column)\n",
    "np.shape(BC)"
   ]
  },
  {
   "cell_type": "code",
   "execution_count": 55,
   "id": "5dd0289b",
   "metadata": {
    "execution": {
     "iopub.execute_input": "2023-01-17T15:35:08.525154Z",
     "iopub.status.busy": "2023-01-17T15:35:08.524741Z",
     "iopub.status.idle": "2023-01-17T15:35:08.530795Z",
     "shell.execute_reply": "2023-01-17T15:35:08.529699Z"
    },
    "papermill": {
     "duration": 0.058582,
     "end_time": "2023-01-17T15:35:08.532867",
     "exception": false,
     "start_time": "2023-01-17T15:35:08.474285",
     "status": "completed"
    },
    "tags": []
   },
   "outputs": [],
   "source": [
    "def discreteC(k):\n",
    "    xveck = np.zeros(37) # Initializes x vector k as a zero array\n",
    "    for j in range(1,rC):\n",
    "        xveck = xveck + np.dot(np.dot(PhiC[:,j],eigenvalue_arrayC[j]**(k - 1)),BC[j])\n",
    "        # For j in range of 1 to r: \n",
    "        # x vector k = (x vector k) + (Phi's jth column)((eigenvalue array's jth entry)^(k - 1))(B's jth entry)\n",
    "    return xveck"
   ]
  },
  {
   "cell_type": "code",
   "execution_count": 56,
   "id": "61c698ba",
   "metadata": {
    "execution": {
     "iopub.execute_input": "2023-01-17T15:35:08.577666Z",
     "iopub.status.busy": "2023-01-17T15:35:08.577260Z",
     "iopub.status.idle": "2023-01-17T15:35:08.584261Z",
     "shell.execute_reply": "2023-01-17T15:35:08.582988Z"
    },
    "papermill": {
     "duration": 0.031653,
     "end_time": "2023-01-17T15:35:08.586467",
     "exception": false,
     "start_time": "2023-01-17T15:35:08.554814",
     "status": "completed"
    },
    "tags": []
   },
   "outputs": [],
   "source": [
    "def continuousC(k):\n",
    "    xveck = np.zeros(37) # Initializes x vector k as a zero array\n",
    "    for j in range(1,rC):\n",
    "        xveck = xveck + np.dot(np.dot(PhiC[:,j],np.exp(np.log(eigenvalue_arrayC[j])/(1/(k - 1)))),BC[j])\n",
    "        # For j in range of 1 to r: \n",
    "        # x vector k = (x vector k) + (Phi's jth column)(e**(omega's jth entry))(B's jth entry)\n",
    "        # omega's jth entry = log(eigenvalue array's jth entry)/deltat\n",
    "        # deltat = 1/(k - 1)\n",
    "    return xveck"
   ]
  },
  {
   "cell_type": "markdown",
   "id": "0fde53c3",
   "metadata": {
    "papermill": {
     "duration": 0.020924,
     "end_time": "2023-01-17T15:35:08.628737",
     "exception": false,
     "start_time": "2023-01-17T15:35:08.607813",
     "status": "completed"
    },
    "tags": []
   },
   "source": [
    "# DMD for the data set of greenhouse gas values"
   ]
  },
  {
   "cell_type": "code",
   "execution_count": 57,
   "id": "bef342af",
   "metadata": {
    "execution": {
     "iopub.execute_input": "2023-01-17T15:35:08.673434Z",
     "iopub.status.busy": "2023-01-17T15:35:08.672690Z",
     "iopub.status.idle": "2023-01-17T15:35:08.679878Z",
     "shell.execute_reply": "2023-01-17T15:35:08.678599Z"
    },
    "papermill": {
     "duration": 0.032462,
     "end_time": "2023-01-17T15:35:08.682247",
     "exception": false,
     "start_time": "2023-01-17T15:35:08.649785",
     "status": "completed"
    },
    "tags": []
   },
   "outputs": [],
   "source": [
    "# Note: G is added to the end of the variable names to distinguish them from the variable names when\n",
    "# DMD is utilized for the carbon dioxide values\n",
    "# The comments will refer to each variable name without the G at the end of each name\n",
    "\n",
    "from scipy.linalg import diagsvd\n",
    "\n",
    "UG, sigma_arrayG, V_tG = np.linalg.svd(Y)\n",
    "# np.linalg.svd() calculates the corresponding values of U, the array of sigma values, and V transpose for Y\n",
    "\n",
    "VG = V_tG.T # V is the transpose of V transpose\n",
    "\n",
    "SigmaG = diagsvd(sigma_arrayG, 37, 24) \n",
    "# Creates Sigma as a 37x24 rectangular diagonal matrix whose diagonal entries are the entries of the sigma array\n",
    "# Sigma is known to be 37x24 because it has the same dimensions as Y, which is a 37x24 matrix"
   ]
  },
  {
   "cell_type": "code",
   "execution_count": 58,
   "id": "a17f28cc",
   "metadata": {
    "execution": {
     "iopub.execute_input": "2023-01-17T15:35:08.726726Z",
     "iopub.status.busy": "2023-01-17T15:35:08.726313Z",
     "iopub.status.idle": "2023-01-17T15:35:08.732168Z",
     "shell.execute_reply": "2023-01-17T15:35:08.731103Z"
    },
    "papermill": {
     "duration": 0.031818,
     "end_time": "2023-01-17T15:35:08.735291",
     "exception": false,
     "start_time": "2023-01-17T15:35:08.703473",
     "status": "completed"
    },
    "tags": []
   },
   "outputs": [
    {
     "name": "stdout",
     "output_type": "stream",
     "text": [
      "24\n"
     ]
    }
   ],
   "source": [
    "rG = np.linalg.matrix_rank(Y) # r is the rank of Y\n",
    "print(rG)"
   ]
  },
  {
   "cell_type": "code",
   "execution_count": 59,
   "id": "2bb5bbab",
   "metadata": {
    "execution": {
     "iopub.execute_input": "2023-01-17T15:35:08.779998Z",
     "iopub.status.busy": "2023-01-17T15:35:08.779599Z",
     "iopub.status.idle": "2023-01-17T15:35:08.785747Z",
     "shell.execute_reply": "2023-01-17T15:35:08.784538Z"
    },
    "papermill": {
     "duration": 0.03145,
     "end_time": "2023-01-17T15:35:08.788126",
     "exception": false,
     "start_time": "2023-01-17T15:35:08.756676",
     "status": "completed"
    },
    "tags": []
   },
   "outputs": [],
   "source": [
    "UrG = UG[:,0:24] # Ur is a matrix containing the first r columns of U\n",
    "SigmarG = SigmaG[0:24,0:24] # Sigmar is a matrix containing the first r rows and the first r columns of Sigma\n",
    "VrG = VG[:,0:24] # Vr is a matrix containing the first r columns of V\n",
    "Vr_starG = VrG.conj().T # Vr_star is the conjugate transpose of Vr\n",
    "Yr = np.dot(np.dot(UrG,SigmarG),Vr_starG)\n",
    "# Xr = (Ur)(Sigmar)(Vr_star)"
   ]
  },
  {
   "cell_type": "code",
   "execution_count": 60,
   "id": "58ccd70b",
   "metadata": {
    "execution": {
     "iopub.execute_input": "2023-01-17T15:35:08.834460Z",
     "iopub.status.busy": "2023-01-17T15:35:08.834074Z",
     "iopub.status.idle": "2023-01-17T15:35:08.841716Z",
     "shell.execute_reply": "2023-01-17T15:35:08.840674Z"
    },
    "papermill": {
     "duration": 0.034426,
     "end_time": "2023-01-17T15:35:08.844297",
     "exception": false,
     "start_time": "2023-01-17T15:35:08.809871",
     "status": "completed"
    },
    "tags": []
   },
   "outputs": [],
   "source": [
    "Yplus = np.linalg.pinv(Y) # Calculates Yplus, which is the pseudo-inverse of Y\n",
    "Ur_starG = UrG.conj().T # Ur_star is the conjugate transpose of Ur\n",
    "\n",
    "ArG = np.dot(np.dot(np.dot(Ur_starG,Ybar),Yplus),UrG)\n",
    "# Ar = (Ur_star)(Ybar)(Yplus)(Ur)\n",
    "\n",
    "# Ar can also be found using the following: ArG = np.dot(np.dot(np.dot(Ur_starG,Ybar),VrG),np.linalg.inv(SigmarG))\n",
    "# In the above line, Ar = (Ur_star)(Ybar)(Vr)(Sigmar's inverse)\n",
    "\n",
    "eigenvalue_arrayG, WG = np.linalg.eig(ArG)\n",
    "# Determines the eigenvalues of Ar and places them as entries in the eigenvalue array\n",
    "# Also determines the eigenvectors of Ar and places each eigenvector in the array W as a column"
   ]
  },
  {
   "cell_type": "code",
   "execution_count": 61,
   "id": "80901e65",
   "metadata": {
    "execution": {
     "iopub.execute_input": "2023-01-17T15:35:08.889547Z",
     "iopub.status.busy": "2023-01-17T15:35:08.889150Z",
     "iopub.status.idle": "2023-01-17T15:35:08.900273Z",
     "shell.execute_reply": "2023-01-17T15:35:08.898599Z"
    },
    "papermill": {
     "duration": 0.038431,
     "end_time": "2023-01-17T15:35:08.904972",
     "exception": false,
     "start_time": "2023-01-17T15:35:08.866541",
     "status": "completed"
    },
    "tags": []
   },
   "outputs": [],
   "source": [
    "PhiG = np.dot(np.dot(np.dot(Ybar,VrG),np.linalg.inv(SigmarG)),WG)\n",
    "# Phi = (Ybar)(Vr)(Sigmar's inverse)(W)\n",
    "\n",
    "BG = np.dot(np.linalg.pinv(PhiG),Y[:,0])\n",
    "# B = (Phi's pseudo-inverse)(Y's first column)"
   ]
  },
  {
   "cell_type": "code",
   "execution_count": 62,
   "id": "c641b157",
   "metadata": {
    "execution": {
     "iopub.execute_input": "2023-01-17T15:35:09.019120Z",
     "iopub.status.busy": "2023-01-17T15:35:09.017828Z",
     "iopub.status.idle": "2023-01-17T15:35:09.024669Z",
     "shell.execute_reply": "2023-01-17T15:35:09.023824Z"
    },
    "papermill": {
     "duration": 0.065668,
     "end_time": "2023-01-17T15:35:09.027049",
     "exception": false,
     "start_time": "2023-01-17T15:35:08.961381",
     "status": "completed"
    },
    "tags": []
   },
   "outputs": [],
   "source": [
    "def discreteG(k):\n",
    "    yveck = np.zeros(37) # Initializes y vector k as a zero array\n",
    "    for j in range(1,rG):\n",
    "        yveck = yveck + np.dot(np.dot(PhiG[:,j],eigenvalue_arrayG[j]**(k - 1)),BG[j])\n",
    "        # For j in range of 1 to r: \n",
    "        # y vector k = (x vector k) + (Phi's jth column)((eigenvalue array's jth entry)^(k - 1))(B's jth entry)\n",
    "    return yveck"
   ]
  },
  {
   "cell_type": "code",
   "execution_count": 63,
   "id": "9fc33f99",
   "metadata": {
    "execution": {
     "iopub.execute_input": "2023-01-17T15:35:09.072616Z",
     "iopub.status.busy": "2023-01-17T15:35:09.071483Z",
     "iopub.status.idle": "2023-01-17T15:35:09.078864Z",
     "shell.execute_reply": "2023-01-17T15:35:09.077911Z"
    },
    "papermill": {
     "duration": 0.032585,
     "end_time": "2023-01-17T15:35:09.081258",
     "exception": false,
     "start_time": "2023-01-17T15:35:09.048673",
     "status": "completed"
    },
    "tags": []
   },
   "outputs": [],
   "source": [
    "def continuousG(k):\n",
    "    yveck = np.zeros(37) # Initializes y vector k as a zero array\n",
    "    for j in range(1,rG):\n",
    "        yveck = yveck + np.dot(np.dot(PhiG[:,j],np.exp(np.log(eigenvalue_arrayG[j])/(1/(k - 1)))),BG[j])\n",
    "        # For j in range of 1 to r: \n",
    "        # y vector k = (y vector k) + (Phi's jth column)(e**(omega's jth entry))(B's jth entry)\n",
    "        # omega's jth entry = log(eigenvalue array's jth entry)/deltat\n",
    "        # deltat = 1/(k - 1)\n",
    "    return yveck"
   ]
  },
  {
   "cell_type": "markdown",
   "id": "82216383",
   "metadata": {
    "papermill": {
     "duration": 0.020999,
     "end_time": "2023-01-17T15:35:09.123460",
     "exception": false,
     "start_time": "2023-01-17T15:35:09.102461",
     "status": "completed"
    },
    "tags": []
   },
   "source": [
    "# Carbon dioxide DMD visualizations"
   ]
  },
  {
   "cell_type": "code",
   "execution_count": 64,
   "id": "a959ef76",
   "metadata": {
    "execution": {
     "iopub.execute_input": "2023-01-17T15:35:09.167862Z",
     "iopub.status.busy": "2023-01-17T15:35:09.167485Z",
     "iopub.status.idle": "2023-01-17T15:35:09.469621Z",
     "shell.execute_reply": "2023-01-17T15:35:09.468365Z"
    },
    "papermill": {
     "duration": 0.327513,
     "end_time": "2023-01-17T15:35:09.472187",
     "exception": false,
     "start_time": "2023-01-17T15:35:09.144674",
     "status": "completed"
    },
    "tags": []
   },
   "outputs": [
    {
     "name": "stderr",
     "output_type": "stream",
     "text": [
      "/opt/conda/lib/python3.7/site-packages/matplotlib/collections.py:196: ComplexWarning: Casting complex values to real discards the imaginary part\n",
      "  offsets = np.asanyarray(offsets, float)\n"
     ]
    },
    {
     "data": {
      "image/png": "[encoded data removed]",
      "text/plain": [
       "<Figure size 960x640 with 1 Axes>"
      ]
     },
     "metadata": {
      "needs_background": "light"
     },
     "output_type": "display_data"
    }
   ],
   "source": [
    "plt.figure(figsize = (12,8), dpi = 80)\n",
    "\n",
    "plt.scatter(np.linspace(1,37,num=37),X[:,20], s = 100, marker = 's', color = 'green', label = '2010 CO2 Data Set')\n",
    "plt.scatter(np.linspace(1,37,num=37),discreteC(20), s = 100, marker = 'o', color = 'blue', label = '2010 CO2 Discrete DMD')\n",
    "plt.scatter(np.linspace(1,37,num=37),continuousC(20), s = 100, marker = '^', color = 'red', label = '2010 CO2 Continuous DMD')\n",
    "# Plots the 2010 carbon dioxide emissions from the data set, the 2010 carbon dioxide discrete DMD column,\n",
    "# and the 2010 carbon dioxide continuous DMD column\n",
    "\n",
    "\n",
    "plt.xlabel('Country / Area')\n",
    "plt.ylabel('CO2 Emissions (kilotons)')\n",
    "plt.title('CO2 Data Set vs CO2 Discrete DMD vs CO2 Continuous DMD (2010)')\n",
    "plt.legend()\n",
    "plt.show()"
   ]
  },
  {
   "cell_type": "code",
   "execution_count": 65,
   "id": "6a9e2169",
   "metadata": {
    "execution": {
     "iopub.execute_input": "2023-01-17T15:35:09.519185Z",
     "iopub.status.busy": "2023-01-17T15:35:09.518707Z",
     "iopub.status.idle": "2023-01-17T15:35:09.533700Z",
     "shell.execute_reply": "2023-01-17T15:35:09.532356Z"
    },
    "papermill": {
     "duration": 0.041783,
     "end_time": "2023-01-17T15:35:09.536091",
     "exception": false,
     "start_time": "2023-01-17T15:35:09.494308",
     "status": "completed"
    },
    "tags": []
   },
   "outputs": [],
   "source": [
    "DMDmatrixC = np.array([discreteC(0),discreteC(1),discreteC(2),discreteC(3),discreteC(4),discreteC(5),discreteC(6),\n",
    "                      discreteC(7),discreteC(8),discreteC(9),discreteC(10),discreteC(11),discreteC(12),discreteC(13),\n",
    "                      discreteC(14),discreteC(15),discreteC(16),discreteC(17),discreteC(18),discreteC(19),\n",
    "                       discreteC(20),discreteC(21),discreteC(22),discreteC(23),discreteC(24),discreteC(25),\n",
    "                       discreteC(26),discreteC(27), discreteC(28),discreteC(29),discreteC(30),discreteC(31),\n",
    "                      discreteC(32),discreteC(33), discreteC(34)])\n",
    "\n",
    "DMDmatrixC = DMDmatrixC.T\n",
    "# Turns DMDmatricC into a 35x37 matrix\n",
    "\n",
    "# Creates a 2D numpy array containing the first 35 columns of the discrete DMD function for carbon dioxide values\n",
    "# Each column corresponds to a year of carbon dioxide emissions in each country or area from 1990 to 2024"
   ]
  },
  {
   "cell_type": "code",
   "execution_count": 66,
   "id": "9b45f2b4",
   "metadata": {
    "execution": {
     "iopub.execute_input": "2023-01-17T15:35:09.581690Z",
     "iopub.status.busy": "2023-01-17T15:35:09.581275Z",
     "iopub.status.idle": "2023-01-17T15:35:09.589010Z",
     "shell.execute_reply": "2023-01-17T15:35:09.587545Z"
    },
    "papermill": {
     "duration": 0.033522,
     "end_time": "2023-01-17T15:35:09.591408",
     "exception": false,
     "start_time": "2023-01-17T15:35:09.557886",
     "status": "completed"
    },
    "tags": []
   },
   "outputs": [
    {
     "name": "stdout",
     "output_type": "stream",
     "text": [
      "[[ 133070.00285735 +109271.68684728j  166699.32779206 +105859.60755442j\n",
      "   147862.36575963 +102014.11598979j ...\n",
      "   189679.29373327 -193063.26189146j   94112.21179192 -206134.00767793j\n",
      "   139663.47080497 -219098.90319302j]\n",
      " [  44456.98040499  +15390.98271471j   35413.71682879  +14307.17563475j\n",
      "    40032.84903768  +13141.48017065j ...\n",
      "    13803.22234034  -48529.86554029j   12821.11063609  -50708.59431739j\n",
      "     6842.4220924   -52822.47284366j]\n",
      " [  97179.91526662  +17971.96589905j   86821.17926927  +17671.77337738j\n",
      "    77060.38015269  +17309.31509073j ...\n",
      "    36739.9609939   -22521.37072817j   12364.2702233   -24525.0062987j\n",
      "   -13376.88423108  -26532.84078281j]\n",
      " ...\n",
      " [ 113341.00897531 +113200.77832134j  103692.83834974 +113294.8520874j\n",
      "    60873.85259372 +113065.31166816j ...\n",
      "   384973.10070517  -71646.38151861j  388448.41006905  -83155.52308845j\n",
      "   357861.40317504  -94855.44682865j]\n",
      " [ 674436.6575205   +65696.92445376j  597710.907281    +62210.78160172j\n",
      "   446693.75084421  +58414.48856428j ...\n",
      "   602038.34450603 -166823.0506763j   263852.15669691 -175484.73421724j\n",
      "  -159115.39765369 -183963.99526468j]\n",
      " [3623827.92026593+1214536.47668284j 2848342.47689042+1125229.2597952j\n",
      "  3009699.10138493+1029329.38893901j ...\n",
      "  2794057.9675917 -3963361.35384577j 3464167.96052805-4137406.7724263j\n",
      "  4913250.02650328-4306021.62833938j]]\n"
     ]
    }
   ],
   "source": [
    "print(DMDmatrixC)"
   ]
  },
  {
   "cell_type": "code",
   "execution_count": 67,
   "id": "587a74b2",
   "metadata": {
    "execution": {
     "iopub.execute_input": "2023-01-17T15:35:09.640584Z",
     "iopub.status.busy": "2023-01-17T15:35:09.639320Z",
     "iopub.status.idle": "2023-01-17T15:35:09.955082Z",
     "shell.execute_reply": "2023-01-17T15:35:09.953901Z"
    },
    "papermill": {
     "duration": 0.343967,
     "end_time": "2023-01-17T15:35:09.957531",
     "exception": false,
     "start_time": "2023-01-17T15:35:09.613564",
     "status": "completed"
    },
    "tags": []
   },
   "outputs": [
    {
     "data": {
      "image/png": "[encoded data removed]",
      "text/plain": [
       "<Figure size 960x640 with 1 Axes>"
      ]
     },
     "metadata": {
      "needs_background": "light"
     },
     "output_type": "display_data"
    }
   ],
   "source": [
    "plt.figure(figsize = (12,8), dpi = 80)\n",
    "\n",
    "plt.scatter(np.linspace(1,37,num=37),DMDmatrixC[:,25], s = 100, marker = 's', color = 'green', label = '2015')\n",
    "plt.scatter(np.linspace(1,37,num=37),DMDmatrixC[:,26], s = 100, marker = 'o', color = 'blue', label = '2016')\n",
    "plt.scatter(np.linspace(1,37,num=37),DMDmatrixC[:,27], s = 100, marker = '^', color = 'purple', label = '2017')\n",
    "plt.scatter(np.linspace(1,37,num=37),DMDmatrixC[:,28], s = 100, marker = '*', color = 'red', label = '2018')\n",
    "plt.scatter(np.linspace(1,37,num=37),DMDmatrixC[:,29], s = 100, marker = 'p', color = 'orange', label = '2019')\n",
    "plt.scatter(np.linspace(1,37,num=37),DMDmatrixC[:,30], s = 100, marker = 'h', color = 'yellow', label = '2020')\n",
    "# Plots the 2015-2020 estimates for carbon dioxide emission values from each country or area\n",
    "\n",
    "plt.xlabel('Country / Area')\n",
    "plt.ylabel('CO2 Emissions (kilotons)')\n",
    "plt.title('DMD CO2 Emission Predictions')\n",
    "plt.legend()\n",
    "plt.show()"
   ]
  },
  {
   "cell_type": "markdown",
   "id": "46a221d9",
   "metadata": {
    "papermill": {
     "duration": 0.02225,
     "end_time": "2023-01-17T15:35:10.002506",
     "exception": false,
     "start_time": "2023-01-17T15:35:09.980256",
     "status": "completed"
    },
    "tags": []
   },
   "source": [
    "### Comparing with the Original DATA"
   ]
  },
  {
   "cell_type": "code",
   "execution_count": 68,
   "id": "96593710",
   "metadata": {
    "execution": {
     "iopub.execute_input": "2023-01-17T15:35:10.049988Z",
     "iopub.status.busy": "2023-01-17T15:35:10.049336Z",
     "iopub.status.idle": "2023-01-17T15:35:10.071258Z",
     "shell.execute_reply": "2023-01-17T15:35:10.070197Z"
    },
    "papermill": {
     "duration": 0.048491,
     "end_time": "2023-01-17T15:35:10.073621",
     "exception": false,
     "start_time": "2023-01-17T15:35:10.025130",
     "status": "completed"
    },
    "tags": []
   },
   "outputs": [
    {
     "data": {
      "text/plain": [
       "(37,)"
      ]
     },
     "execution_count": 68,
     "metadata": {},
     "output_type": "execute_result"
    }
   ],
   "source": [
    "UNdataC = np.array([[402995,413370],[66704,67402],[58966,60509],[100229,100244],[565577,558189],[17997,18221],\n",
    "                  [6903,7308],[104785,106543],[36625,38472],[15891,17494],[3510586,3489056],[44346,47926],\n",
    "                  [344390,346790],[797078,801753],[74962,71373],[46665,47578],[3536,3490],[38444,39928],\n",
    "                    [355483,350323],[1223666,1204319],[7334,7264],[13142,13157],[1758,1420],[165030,165522],\n",
    "                   [35837,34463],[44664,44032],[310526,321182],[52205,50285],[77788,75052],[1671895,1668070],\n",
    "                   [33897,33997],[13599,14400],[43386,42568],[38739,39205],[380858,402821],[223580,235156],\n",
    "                   [5420804,5310861]])\n",
    "\n",
    "UN2017=pd.read_csv('/kaggle/input/co2-data/UNdata_Export_20230116_134026466.csv')\n",
    "UN2017.iloc[:,2].shape"
   ]
  },
  {
   "cell_type": "code",
   "execution_count": 69,
   "id": "9b9040cd",
   "metadata": {
    "execution": {
     "iopub.execute_input": "2023-01-17T15:35:10.122843Z",
     "iopub.status.busy": "2023-01-17T15:35:10.122128Z",
     "iopub.status.idle": "2023-01-17T15:35:10.560582Z",
     "shell.execute_reply": "2023-01-17T15:35:10.559404Z"
    },
    "papermill": {
     "duration": 0.466121,
     "end_time": "2023-01-17T15:35:10.562861",
     "exception": false,
     "start_time": "2023-01-17T15:35:10.096740",
     "status": "completed"
    },
    "tags": []
   },
   "outputs": [
    {
     "data": {
      "image/png": "[encoded data removed]",
      "text/plain": [
       "<Figure size 960x640 with 1 Axes>"
      ]
     },
     "metadata": {
      "needs_background": "light"
     },
     "output_type": "display_data"
    }
   ],
   "source": [
    "plt.figure(figsize = (12,8), dpi = 80)\n",
    "\n",
    "plt.scatter(np.linspace(1,37,num=37),DMDmatrixC[:,25],  s=100,marker = 's', color = 'green', label = '2015 CO2 DMD')\n",
    "plt.scatter(np.linspace(1,37,num=37),DMDmatrixC[:,26],  s=100,marker = 'o', color = 'blue', label = '2016 CO2 DMD')\n",
    "plt.scatter(np.linspace(1,37,num=37),DMDmatrixC[:,27],  s=100,marker = ',', color = 'black', label = '2017 CO2 DMD')\n",
    "\n",
    "# Plots the 2015-2017 estimates for carbon dioxide emission values from each country or area\n",
    "\n",
    "plt.scatter(np.linspace(1,37,num=37),UNdataC[:,0],  s=100,marker = '^', color = 'purple', label = '2015 CO2 Data Set')\n",
    "plt.scatter(np.linspace(1,37,num=37),UNdataC[:,1],  s=100,marker = '*', color = 'red', label = '2016 CO2 Data Set')\n",
    "plt.scatter(np.linspace(1,37,num=37),UN2017.iloc[:,2],  s=100,marker = '.', color = 'yellow', label = '2017 CO2 Data Set')\n",
    "# Plots the 2015-2017 data for carbon dioxide emission values from each country or area\n",
    "\n",
    "plt.xlabel('Country / Area')\n",
    "plt.ylabel('CO2 Emissions (kilotons)')\n",
    "plt.title('DMD CO2 Emission Predictions vs CO2 Emission Data')\n",
    "plt.legend()\n",
    "plt.show()"
   ]
  },
  {
   "cell_type": "code",
   "execution_count": 70,
   "id": "6f045a5c",
   "metadata": {
    "execution": {
     "iopub.execute_input": "2023-01-17T15:35:10.611723Z",
     "iopub.status.busy": "2023-01-17T15:35:10.611324Z",
     "iopub.status.idle": "2023-01-17T15:35:10.633391Z",
     "shell.execute_reply": "2023-01-17T15:35:10.632070Z"
    },
    "papermill": {
     "duration": 0.049685,
     "end_time": "2023-01-17T15:35:10.636154",
     "exception": false,
     "start_time": "2023-01-17T15:35:10.586469",
     "status": "completed"
    },
    "tags": []
   },
   "outputs": [],
   "source": [
    "UN2018=pd.read_csv('/kaggle/input/co2-data/2018.csv')\n",
    "UN2019=pd.read_csv('/kaggle/input/co2-data/2019.csv')\n",
    "UN2020=pd.read_csv('/kaggle/input/co2-data/2020.csv')"
   ]
  },
  {
   "cell_type": "code",
   "execution_count": 71,
   "id": "14202c19",
   "metadata": {
    "execution": {
     "iopub.execute_input": "2023-01-17T15:35:10.687243Z",
     "iopub.status.busy": "2023-01-17T15:35:10.685938Z",
     "iopub.status.idle": "2023-01-17T15:35:11.014941Z",
     "shell.execute_reply": "2023-01-17T15:35:11.013737Z"
    },
    "papermill": {
     "duration": 0.356597,
     "end_time": "2023-01-17T15:35:11.017326",
     "exception": false,
     "start_time": "2023-01-17T15:35:10.660729",
     "status": "completed"
    },
    "tags": []
   },
   "outputs": [
    {
     "data": {
      "image/png": "[encoded data removed]",
      "text/plain": [
       "<Figure size 960x640 with 1 Axes>"
      ]
     },
     "metadata": {
      "needs_background": "light"
     },
     "output_type": "display_data"
    }
   ],
   "source": [
    "plt.figure(figsize = (12,8), dpi = 80)\n",
    "\n",
    "plt.scatter(np.linspace(1,37,num=37),DMDmatrixC[:,28],s=100,marker = 's', color = 'green', label = '2018 CO2 DMD')\n",
    "plt.scatter(np.linspace(1,37,num=37),DMDmatrixC[:,29], s=100,marker = 'o', color = 'blue', label = '2019 CO2 DMD')\n",
    "plt.scatter(np.linspace(1,37,num=37),DMDmatrixC[:,30], s=100, marker = ',', color = 'black', label = '2020 CO2 DMD')\n",
    "\n",
    "# Plots the 2018-2020 estimates for carbon dioxide emission values from each country or area\n",
    "\n",
    "plt.scatter(np.linspace(1,37,num=37),UN2018.iloc[:,2], s=100,marker = '^', color = 'purple', label = '2018 CO2 Data Set')\n",
    "plt.scatter(np.linspace(1,37,num=37),UN2019.iloc[:,2], s=100,marker = '*', color = 'red', label = '2019 CO2 Data Set')\n",
    "plt.scatter(np.linspace(1,37,num=37),UN2020.iloc[:,2], s=100,marker = '.', color = 'yellow', label = '2020 CO2 Data Set')\n",
    "# Plots the 2018-2020 data for carbon dioxide emission values from each country or area\n",
    "\n",
    "plt.xlabel('Country / Area')\n",
    "plt.ylabel('CO2 Emissions (kilotons)')\n",
    "plt.title('DMD CO2 Emission Predictions vs CO2 Emission Data')\n",
    "plt.legend()\n",
    "plt.show()"
   ]
  },
  {
   "cell_type": "markdown",
   "id": "daee1668",
   "metadata": {
    "papermill": {
     "duration": 0.024112,
     "end_time": "2023-01-17T15:35:11.066666",
     "exception": false,
     "start_time": "2023-01-17T15:35:11.042554",
     "status": "completed"
    },
    "tags": []
   },
   "source": [
    "#### Finding the RMSE for CO2"
   ]
  },
  {
   "cell_type": "code",
   "execution_count": 72,
   "id": "9c83c06d",
   "metadata": {
    "execution": {
     "iopub.execute_input": "2023-01-17T15:35:11.117694Z",
     "iopub.status.busy": "2023-01-17T15:35:11.117296Z",
     "iopub.status.idle": "2023-01-17T15:35:11.949807Z",
     "shell.execute_reply": "2023-01-17T15:35:11.948685Z"
    },
    "papermill": {
     "duration": 0.861006,
     "end_time": "2023-01-17T15:35:11.952631",
     "exception": false,
     "start_time": "2023-01-17T15:35:11.091625",
     "status": "completed"
    },
    "tags": []
   },
   "outputs": [
    {
     "name": "stderr",
     "output_type": "stream",
     "text": [
      "/opt/conda/lib/python3.7/site-packages/ipykernel_launcher.py:2: ComplexWarning: Casting complex values to real discards the imaginary part\n",
      "  \n"
     ]
    }
   ],
   "source": [
    "y_actual=np.array([UNdataC[:,0],UNdataC[:,1],UN2017.iloc[:,2],UN2018.iloc[:,2],UN2019.iloc[:,2],UN2020.iloc[:,2]],dtype='int64')\n",
    "y_predicted=np.array([DMDmatrixC[:,25],DMDmatrixC[:,26],DMDmatrixC[:,27],DMDmatrixC[:,28],DMDmatrixC[:,29],DMDmatrixC[:,30]],dtype='int64')\n",
    "from sklearn.metrics import mean_squared_error"
   ]
  },
  {
   "cell_type": "code",
   "execution_count": 73,
   "id": "3e77d1b2",
   "metadata": {
    "execution": {
     "iopub.execute_input": "2023-01-17T15:35:12.003287Z",
     "iopub.status.busy": "2023-01-17T15:35:12.002852Z",
     "iopub.status.idle": "2023-01-17T15:35:12.016904Z",
     "shell.execute_reply": "2023-01-17T15:35:12.016118Z"
    },
    "papermill": {
     "duration": 0.041908,
     "end_time": "2023-01-17T15:35:12.019056",
     "exception": false,
     "start_time": "2023-01-17T15:35:11.977148",
     "status": "completed"
    },
    "tags": []
   },
   "outputs": [
    {
     "data": {
      "text/plain": [
       "0.5476857867161713"
      ]
     },
     "execution_count": 73,
     "metadata": {},
     "output_type": "execute_result"
    }
   ],
   "source": [
    "def normalize(arr, t_min, t_max):\n",
    "    norm_arr = []\n",
    "    diff = t_max - t_min\n",
    "    diff_arr = max(arr) - min(arr)\n",
    "    for i in arr:\n",
    "        temp = (((i - min(arr))*diff)/diff_arr) + t_min\n",
    "        norm_arr.append(temp)\n",
    "    return norm_arr\n",
    "rmse=[]\n",
    "for i in range(1,6):\n",
    "    y1=normalize(y_actual[i][:],0,1)\n",
    "    y2=normalize(y_predicted[i][:],0,1)\n",
    "    x_rmse=mean_squared_error(y1,y2,squared=False)\n",
    "    rmse.append(x_rmse)\n",
    "sum(rmse)"
   ]
  },
  {
   "cell_type": "markdown",
   "id": "943f3c96",
   "metadata": {
    "papermill": {
     "duration": 0.024338,
     "end_time": "2023-01-17T15:35:12.068333",
     "exception": false,
     "start_time": "2023-01-17T15:35:12.043995",
     "status": "completed"
    },
    "tags": []
   },
   "source": [
    "#### Predicting Co2 for Australia"
   ]
  },
  {
   "cell_type": "code",
   "execution_count": 74,
   "id": "e3dda5c5",
   "metadata": {
    "execution": {
     "iopub.execute_input": "2023-01-17T15:35:12.119900Z",
     "iopub.status.busy": "2023-01-17T15:35:12.119486Z",
     "iopub.status.idle": "2023-01-17T15:35:12.399657Z",
     "shell.execute_reply": "2023-01-17T15:35:12.397473Z"
    },
    "papermill": {
     "duration": 0.308708,
     "end_time": "2023-01-17T15:35:12.402095",
     "exception": false,
     "start_time": "2023-01-17T15:35:12.093387",
     "status": "completed"
    },
    "tags": []
   },
   "outputs": [
    {
     "name": "stderr",
     "output_type": "stream",
     "text": [
      "/opt/conda/lib/python3.7/site-packages/matplotlib/collections.py:196: ComplexWarning: Casting complex values to real discards the imaginary part\n",
      "  offsets = np.asanyarray(offsets, float)\n"
     ]
    },
    {
     "data": {
      "image/png": "[encoded data removed]",
      "text/plain": [
       "<Figure size 640x480 with 1 Axes>"
      ]
     },
     "metadata": {
      "needs_background": "light"
     },
     "output_type": "display_data"
    }
   ],
   "source": [
    "x1 = np.linspace(2015, 2020, num = 6) # Creates a numpy array for the years 2015-2020 on the x-axis\n",
    "\n",
    "plt.figure(figsize = (8,6), dpi = 80)\n",
    "plt.scatter(x, AustraliaC, marker = 'o', color = 'blue', label = 'Data Set (1990-2014)')\n",
    "plt.scatter(x, DMDmatrixC[0,0:25], marker = '^', color = 'green', label = 'Discrete DMD Reconstruction')\n",
    "plt.scatter(x1, DMDmatrixC[0,25:31], marker = 's', color = 'red', label = 'Discrete DMD Prediction')\n",
    "# Plots the Australia carbon dioxide emission levels data set, the discrete DMD reconstruction of Australia's carbon\n",
    "# dioxide data set from 1990 to 2014, and the discrete DMD predictions for Australia's carbon dioxide emission levels\n",
    "# from 2015 to 2020\n",
    "\n",
    "plt.title('Annual CO2 Emissions vs CO2 DMD Reconstruction vs CO2 DMD Predictions in Australia')\n",
    "plt.xlabel('Year')\n",
    "plt.ylabel('Emissions (kilotons)')\n",
    "plt.legend()\n",
    "plt.show()"
   ]
  },
  {
   "cell_type": "markdown",
   "id": "715bf5e0",
   "metadata": {
    "papermill": {
     "duration": 0.024767,
     "end_time": "2023-01-17T15:35:12.452046",
     "exception": false,
     "start_time": "2023-01-17T15:35:12.427279",
     "status": "completed"
    },
    "tags": []
   },
   "source": [
    "# Greenhouse gas DMD visualizations"
   ]
  },
  {
   "cell_type": "code",
   "execution_count": 75,
   "id": "2b01fd25",
   "metadata": {
    "execution": {
     "iopub.execute_input": "2023-01-17T15:35:12.504788Z",
     "iopub.status.busy": "2023-01-17T15:35:12.503700Z",
     "iopub.status.idle": "2023-01-17T15:35:12.805046Z",
     "shell.execute_reply": "2023-01-17T15:35:12.803854Z"
    },
    "papermill": {
     "duration": 0.330152,
     "end_time": "2023-01-17T15:35:12.807417",
     "exception": false,
     "start_time": "2023-01-17T15:35:12.477265",
     "status": "completed"
    },
    "tags": []
   },
   "outputs": [
    {
     "data": {
      "image/png": "[encoded data removed]",
      "text/plain": [
       "<Figure size 960x640 with 1 Axes>"
      ]
     },
     "metadata": {
      "needs_background": "light"
     },
     "output_type": "display_data"
    }
   ],
   "source": [
    "plt.figure(figsize = (12,8), dpi = 80)\n",
    "\n",
    "plt.scatter(np.linspace(1,37,num=37),Y[:,20], s = 100, marker = 's', color = 'green', label = '2010 GHG Data Set')\n",
    "plt.scatter(np.linspace(1,37,num=37),discreteG(20), s = 100, marker = 'o', color = 'blue', label = '2010 GHG Discrete DMD')\n",
    "plt.scatter(np.linspace(1,37,num=37),continuousG(20), s = 100, marker = '^', color = 'red', label = '2010 GHG Continuous DMD')\n",
    "\n",
    "# Plots the 2010 greenhouse gas emissions from the data set, the 2010 greenhouse gas discrete DMD column,\n",
    "# and the 2010 greenhouse gas continuous DMD column\n",
    "\n",
    "plt.xlabel('Country / Area')\n",
    "plt.ylabel('GHG Emissions (kilotons)')\n",
    "plt.title('GHG Data Set vs GHG Discrete DMD vs GHG Continuous DMD (2010)')\n",
    "plt.legend()\n",
    "plt.show()"
   ]
  },
  {
   "cell_type": "code",
   "execution_count": 76,
   "id": "12a01548",
   "metadata": {
    "execution": {
     "iopub.execute_input": "2023-01-17T15:35:12.861664Z",
     "iopub.status.busy": "2023-01-17T15:35:12.861269Z",
     "iopub.status.idle": "2023-01-17T15:35:12.875119Z",
     "shell.execute_reply": "2023-01-17T15:35:12.874211Z"
    },
    "papermill": {
     "duration": 0.043639,
     "end_time": "2023-01-17T15:35:12.877505",
     "exception": false,
     "start_time": "2023-01-17T15:35:12.833866",
     "status": "completed"
    },
    "tags": []
   },
   "outputs": [],
   "source": [
    "DMDmatrixG = np.array([discreteG(0),discreteG(1),discreteG(2),discreteG(3),discreteG(4),discreteG(5),discreteG(6),\n",
    "                      discreteG(7),discreteG(8),discreteG(9),discreteG(10),discreteG(11),discreteG(12),discreteG(13),\n",
    "                      discreteG(14),discreteG(15),discreteG(16),discreteG(17),discreteG(18),discreteG(19),\n",
    "                       discreteG(20),discreteG(21),discreteG(22),discreteG(23),discreteG(24),discreteG(25),\n",
    "                       discreteG(26),discreteG(27), discreteG(28),discreteG(29),discreteG(30),discreteG(31),\n",
    "                      discreteG(32),discreteG(33), discreteG(34)])\n",
    "\n",
    "DMDmatrixG = DMDmatrixG.T\n",
    "# Turns DMDmatricG into a 35x37 matrix\n",
    "\n",
    "# Creates a 2D numpy array containing the first 35 columns of the discrete DMD function for greenhouse gas values\n",
    "# Each column corresponds to a year of greenhouse gas emissions in each country or area from 1990 to 2024"
   ]
  },
  {
   "cell_type": "code",
   "execution_count": 77,
   "id": "9225fc34",
   "metadata": {
    "execution": {
     "iopub.execute_input": "2023-01-17T15:35:12.930732Z",
     "iopub.status.busy": "2023-01-17T15:35:12.930326Z",
     "iopub.status.idle": "2023-01-17T15:35:13.246399Z",
     "shell.execute_reply": "2023-01-17T15:35:13.245231Z"
    },
    "papermill": {
     "duration": 0.345823,
     "end_time": "2023-01-17T15:35:13.249051",
     "exception": false,
     "start_time": "2023-01-17T15:35:12.903228",
     "status": "completed"
    },
    "tags": []
   },
   "outputs": [
    {
     "data": {
      "image/png": "[encoded data removed]",
      "text/plain": [
       "<Figure size 960x640 with 1 Axes>"
      ]
     },
     "metadata": {
      "needs_background": "light"
     },
     "output_type": "display_data"
    }
   ],
   "source": [
    "plt.figure(figsize = (12,8), dpi = 80)\n",
    "\n",
    "plt.scatter(np.linspace(1,37,num=37),DMDmatrixG[:,25], s = 100, marker = 's', color = 'green', label = '2015')\n",
    "plt.scatter(np.linspace(1,37,num=37),DMDmatrixG[:,26], s = 100, marker = 'o', color = 'blue', label = '2016')\n",
    "plt.scatter(np.linspace(1,37,num=37),DMDmatrixG[:,27], s = 100, marker = '^', color = 'purple', label = '2017')\n",
    "plt.scatter(np.linspace(1,37,num=37),DMDmatrixG[:,28], s = 100, marker = '*', color = 'red', label = '2018')\n",
    "plt.scatter(np.linspace(1,37,num=37),DMDmatrixG[:,29], s = 100, marker = 'p', color = 'orange', label = '2019')\n",
    "plt.scatter(np.linspace(1,37,num=37),DMDmatrixG[:,30], s = 100, marker = 'h', color = 'yellow', label = '2020')\n",
    "# Plots the 2015-2020 estimates for greenhouse gas emission values from each country or area\n",
    "\n",
    "plt.xlabel('Country / Area')\n",
    "plt.ylabel('GHG Emissions (kilotons)')\n",
    "plt.title('DMD GHG Emission Predictions')\n",
    "plt.legend()\n",
    "plt.show()"
   ]
  },
  {
   "cell_type": "code",
   "execution_count": 78,
   "id": "f630ba67",
   "metadata": {
    "execution": {
     "iopub.execute_input": "2023-01-17T15:35:13.303617Z",
     "iopub.status.busy": "2023-01-17T15:35:13.303190Z",
     "iopub.status.idle": "2023-01-17T15:35:13.317301Z",
     "shell.execute_reply": "2023-01-17T15:35:13.316465Z"
    },
    "papermill": {
     "duration": 0.044146,
     "end_time": "2023-01-17T15:35:13.319785",
     "exception": false,
     "start_time": "2023-01-17T15:35:13.275639",
     "status": "completed"
    },
    "tags": []
   },
   "outputs": [],
   "source": [
    "UNdataG = np.array([[537551,549158],[78856,79673],[90171,91542],[117584,117727],[713817,704162],[24667,24805],\n",
    "                  [8328,8773],[127621,129583],[49618,51620],[18090,19667],[4317925,4291252],[55347,58737],\n",
    "                  [464566,465129],[906752,909404],[95310,91607],[61010,61464],[4749,4669],[59472,61596],\n",
    "                    [432878,427862],[1321061,1304568],[11318,11289],[20175,20083],[2225,1910],[194552,195029],\n",
    "                   [80703,78727],[53871,53243],[385170,395824],[69413,67621],[122084,118232],[2629877,2643817],\n",
    "                   [40906,41037],[16888,17748],[53755,52893],[47813,48199],[469930,496067],[319012,338636],\n",
    "                   [6638133,6511302]])\n",
    "UN2017G=pd.read_csv('/kaggle/input/ghgdata/UNdata_Export_20230116_145228460.csv')"
   ]
  },
  {
   "cell_type": "code",
   "execution_count": 79,
   "id": "d5f101e4",
   "metadata": {
    "execution": {
     "iopub.execute_input": "2023-01-17T15:35:13.374417Z",
     "iopub.status.busy": "2023-01-17T15:35:13.374011Z",
     "iopub.status.idle": "2023-01-17T15:35:13.712584Z",
     "shell.execute_reply": "2023-01-17T15:35:13.711435Z"
    },
    "papermill": {
     "duration": 0.368451,
     "end_time": "2023-01-17T15:35:13.715134",
     "exception": false,
     "start_time": "2023-01-17T15:35:13.346683",
     "status": "completed"
    },
    "tags": []
   },
   "outputs": [
    {
     "data": {
      "image/png": "[encoded data removed]",
      "text/plain": [
       "<Figure size 960x640 with 1 Axes>"
      ]
     },
     "metadata": {
      "needs_background": "light"
     },
     "output_type": "display_data"
    }
   ],
   "source": [
    "plt.figure(figsize = (12,8), dpi = 80)\n",
    "\n",
    "plt.scatter(np.linspace(1,37,num=37),DMDmatrixG[:,25], s = 100, marker = 's', color = 'green', label = '2015 GHG DMD')\n",
    "plt.scatter(np.linspace(1,37,num=37),DMDmatrixG[:,26], s = 100, marker = 'o', color = 'blue', label = '2016 GHG DMD')\n",
    "plt.scatter(np.linspace(1,37,num=37),DMDmatrixG[:,27], s = 100, marker = '^', color = 'black', label = '2016 GHG DMD')\n",
    "# Plots the 2015-2016 estimates for greenhouse gas emission values from each country or area\n",
    "\n",
    "plt.scatter(np.linspace(1,37,num=37),UNdataG[:,0], s = 100, marker = '^', color = 'purple', label = '2015 GHG Data Set')\n",
    "plt.scatter(np.linspace(1,37,num=37),UNdataG[:,1], s = 100, marker = '*', color = 'red', label = '2016 GHG Data Set')\n",
    "plt.scatter(np.linspace(1,37,num=37),UN2017G.iloc[:,2], s = 100, marker = '.', color = 'yellow', label = '2017 GHG Data Set')\n",
    "# Plots the 2015-2016 data for greenhouse gas emission values from each country or area\n",
    "\n",
    "plt.xlabel('Country / Area')\n",
    "plt.ylabel('GHG Emissions (kilotons)')\n",
    "plt.title('DMD GHG Emission Predictions vs GHG Emission Data')\n",
    "plt.legend()\n",
    "plt.show()"
   ]
  },
  {
   "cell_type": "code",
   "execution_count": 80,
   "id": "6ee8cbee",
   "metadata": {
    "execution": {
     "iopub.execute_input": "2023-01-17T15:35:13.772511Z",
     "iopub.status.busy": "2023-01-17T15:35:13.772089Z",
     "iopub.status.idle": "2023-01-17T15:35:13.793417Z",
     "shell.execute_reply": "2023-01-17T15:35:13.792281Z"
    },
    "papermill": {
     "duration": 0.05292,
     "end_time": "2023-01-17T15:35:13.796128",
     "exception": false,
     "start_time": "2023-01-17T15:35:13.743208",
     "status": "completed"
    },
    "tags": []
   },
   "outputs": [],
   "source": [
    "UN2018GHG=pd.read_csv('/kaggle/input/ghgdata/2018GHG.csv')\n",
    "UN2019GHG=pd.read_csv('/kaggle/input/ghgdata/2019GHG.csv')\n",
    "UN2020GHG=pd.read_csv('/kaggle/input/ghgdata/2020GHG.csv')"
   ]
  },
  {
   "cell_type": "code",
   "execution_count": 81,
   "id": "f13068d6",
   "metadata": {
    "execution": {
     "iopub.execute_input": "2023-01-17T15:35:13.851993Z",
     "iopub.status.busy": "2023-01-17T15:35:13.851532Z",
     "iopub.status.idle": "2023-01-17T15:35:14.189321Z",
     "shell.execute_reply": "2023-01-17T15:35:14.188214Z"
    },
    "papermill": {
     "duration": 0.368473,
     "end_time": "2023-01-17T15:35:14.191807",
     "exception": false,
     "start_time": "2023-01-17T15:35:13.823334",
     "status": "completed"
    },
    "tags": []
   },
   "outputs": [
    {
     "data": {
      "image/png": "[encoded data removed]",
      "text/plain": [
       "<Figure size 960x640 with 1 Axes>"
      ]
     },
     "metadata": {
      "needs_background": "light"
     },
     "output_type": "display_data"
    }
   ],
   "source": [
    "plt.figure(figsize = (12,8), dpi = 80)\n",
    "\n",
    "plt.scatter(np.linspace(1,37,num=37),DMDmatrixG[:,27], s = 100, marker = 's', color = 'green', label = '2018 GHG DMD')\n",
    "plt.scatter(np.linspace(1,37,num=37),DMDmatrixG[:,28], s = 100, marker = 'o', color = 'blue', label = '2019 GHG DMD')\n",
    "plt.scatter(np.linspace(1,37,num=37),DMDmatrixG[:,29], s = 100, marker = '^', color = 'black', label = '2020 GHG DMD')\n",
    "# Plots the 2015-2016 estimates for greenhouse gas emission values from each country or area\n",
    "\n",
    "plt.scatter(np.linspace(1,37,num=37),UN2018GHG.iloc[:,2], s = 100, marker = '^', color = 'purple', label = '2018 GHG Data Set')\n",
    "plt.scatter(np.linspace(1,37,num=37),UN2019GHG.iloc[:,2], s = 100, marker = '*', color = 'red', label = '2019 GHG Data Set')\n",
    "plt.scatter(np.linspace(1,37,num=37),UN2020GHG.iloc[:,2], s = 100, marker = '.', color = 'yellow', label = '2020 GHG Data Set')\n",
    "# Plots the 2015-2016 data for greenhouse gas emission values from each country or area\n",
    "\n",
    "plt.xlabel('Country / Area')\n",
    "plt.ylabel('GHG Emissions (kilotons)')\n",
    "plt.title('DMD GHG Emission Predictions vs GHG Emission Data')\n",
    "plt.legend()\n",
    "plt.show()"
   ]
  },
  {
   "cell_type": "markdown",
   "id": "2d734fc5",
   "metadata": {
    "papermill": {
     "duration": 0.028596,
     "end_time": "2023-01-17T15:35:14.248496",
     "exception": false,
     "start_time": "2023-01-17T15:35:14.219900",
     "status": "completed"
    },
    "tags": []
   },
   "source": [
    "#### Finding the RMSE for GHG"
   ]
  },
  {
   "cell_type": "code",
   "execution_count": 82,
   "id": "89fdef4a",
   "metadata": {
    "execution": {
     "iopub.execute_input": "2023-01-17T15:35:14.306696Z",
     "iopub.status.busy": "2023-01-17T15:35:14.306322Z",
     "iopub.status.idle": "2023-01-17T15:35:14.314242Z",
     "shell.execute_reply": "2023-01-17T15:35:14.313178Z"
    },
    "papermill": {
     "duration": 0.040213,
     "end_time": "2023-01-17T15:35:14.316794",
     "exception": false,
     "start_time": "2023-01-17T15:35:14.276581",
     "status": "completed"
    },
    "tags": []
   },
   "outputs": [
    {
     "name": "stderr",
     "output_type": "stream",
     "text": [
      "/opt/conda/lib/python3.7/site-packages/ipykernel_launcher.py:2: ComplexWarning: Casting complex values to real discards the imaginary part\n",
      "  \n"
     ]
    }
   ],
   "source": [
    "y_actual=np.array([UNdataG[:,0],UNdataG[:,1],UN2017G.iloc[:,2],UN2018GHG.iloc[:,2],UN2019GHG.iloc[:,2],UN2020GHG.iloc[:,2]],dtype='int64')\n",
    "y_predicted=np.array([DMDmatrixG[:,25],DMDmatrixG[:,26],DMDmatrixG[:,27],DMDmatrixG[:,28],DMDmatrixG[:,29],DMDmatrixG[:,30]],dtype='int64')"
   ]
  },
  {
   "cell_type": "code",
   "execution_count": 83,
   "id": "1d11cd49",
   "metadata": {
    "execution": {
     "iopub.execute_input": "2023-01-17T15:35:14.376473Z",
     "iopub.status.busy": "2023-01-17T15:35:14.375326Z",
     "iopub.status.idle": "2023-01-17T15:35:14.389811Z",
     "shell.execute_reply": "2023-01-17T15:35:14.388950Z"
    },
    "papermill": {
     "duration": 0.047325,
     "end_time": "2023-01-17T15:35:14.391938",
     "exception": false,
     "start_time": "2023-01-17T15:35:14.344613",
     "status": "completed"
    },
    "tags": []
   },
   "outputs": [
    {
     "data": {
      "text/plain": [
       "0.13326824650153718"
      ]
     },
     "execution_count": 83,
     "metadata": {},
     "output_type": "execute_result"
    }
   ],
   "source": [
    "def normalize(arr, t_min, t_max):\n",
    "    norm_arr = []\n",
    "    diff = t_max - t_min\n",
    "    diff_arr = max(arr) - min(arr)\n",
    "    for i in arr:\n",
    "        temp = (((i - min(arr))*diff)/diff_arr) + t_min\n",
    "        norm_arr.append(temp)\n",
    "    return norm_arr\n",
    "rmse=[]\n",
    "for i in range(1,6):\n",
    "    y1=normalize(y_actual[i][:],0,1)\n",
    "    y2=normalize(y_predicted[i][:],0,1)\n",
    "    x_rmse=mean_squared_error(y1,y2,squared=False)\n",
    "    rmse.append(x_rmse)\n",
    "sum(rmse)"
   ]
  },
  {
   "cell_type": "markdown",
   "id": "4f05dfe8",
   "metadata": {
    "papermill": {
     "duration": 0.028063,
     "end_time": "2023-01-17T15:35:14.448813",
     "exception": false,
     "start_time": "2023-01-17T15:35:14.420750",
     "status": "completed"
    },
    "tags": []
   },
   "source": [
    "#### Predicting GHG for Australia"
   ]
  },
  {
   "cell_type": "code",
   "execution_count": 84,
   "id": "643a2fef",
   "metadata": {
    "execution": {
     "iopub.execute_input": "2023-01-17T15:35:14.507592Z",
     "iopub.status.busy": "2023-01-17T15:35:14.506563Z",
     "iopub.status.idle": "2023-01-17T15:35:14.789367Z",
     "shell.execute_reply": "2023-01-17T15:35:14.788158Z"
    },
    "papermill": {
     "duration": 0.314504,
     "end_time": "2023-01-17T15:35:14.791448",
     "exception": false,
     "start_time": "2023-01-17T15:35:14.476944",
     "status": "completed"
    },
    "tags": []
   },
   "outputs": [
    {
     "name": "stderr",
     "output_type": "stream",
     "text": [
      "/opt/conda/lib/python3.7/site-packages/matplotlib/collections.py:196: ComplexWarning: Casting complex values to real discards the imaginary part\n",
      "  offsets = np.asanyarray(offsets, float)\n"
     ]
    },
    {
     "data": {
      "image/png": "[encoded data removed]",
      "text/plain": [
       "<Figure size 640x480 with 1 Axes>"
      ]
     },
     "metadata": {
      "needs_background": "light"
     },
     "output_type": "display_data"
    }
   ],
   "source": [
    "plt.figure(figsize = (8,6), dpi = 80)\n",
    "plt.scatter(x, AustraliaG, marker = 'o', color = 'blue', label = 'Data Set (1990-2014)')\n",
    "plt.scatter(x, DMDmatrixG[0,0:25], marker = '^', color = 'green', label = 'Discrete DMD Reconstruction')\n",
    "plt.scatter(x1, DMDmatrixG[0,25:31], marker = 's', color = 'red', label = 'Discrete DMD Prediction')\n",
    "# Plots the Australia greenhouse gas emission levels data set, the discrete DMD reconstruction of Australia's\n",
    "# greenhouse gas data set from 1990 to 2014, and the discrete DMD predictions for Australia's greenhouse gas\n",
    "# emission levels from 2015 to 2020\n",
    "\n",
    "plt.title('Annual GHG Emissions vs GHG DMD Reconstruction vs GHG DMD Predictions in Australia')\n",
    "plt.xlabel('Year')\n",
    "plt.ylabel('Emissions (kilotons)')\n",
    "plt.legend()\n",
    "plt.show()"
   ]
  }
 ],
 "metadata": {
  "kernelspec": {
   "display_name": "Python 3",
   "language": "python",
   "name": "python3"
  },
  "language_info": {
   "codemirror_mode": {
    "name": "ipython",
    "version": 3
   },
   "file_extension": ".py",
   "mimetype": "text/x-python",
   "name": "python",
   "nbconvert_exporter": "python",
   "pygments_lexer": "ipython3",
   "version": "3.7.12"
  },
  "papermill": {
   "default_parameters": {},
   "duration": 19.539912,
   "end_time": "2023-01-17T15:35:15.542782",
   "environment_variables": {},
   "exception": null,
   "input_path": "__notebook__.ipynb",
   "output_path": "__notebook__.ipynb",
   "parameters": {},
   "start_time": "2023-01-17T15:34:56.002870",
   "version": "2.3.4"
  }
 },
 "nbformat": 4,
 "nbformat_minor": 5
}
